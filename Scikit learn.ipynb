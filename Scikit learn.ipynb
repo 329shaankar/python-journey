{
 "cells": [
  {
   "cell_type": "markdown",
   "id": "9cf77ff0",
   "metadata": {},
   "source": [
    "#                starting of new journey of python "
   ]
  },
  {
   "cell_type": "markdown",
   "id": "df5afdad",
   "metadata": {},
   "source": [
    "### scikitlearn  journey"
   ]
  },
  {
   "cell_type": "code",
   "execution_count": 1,
   "id": "47d6422f",
   "metadata": {},
   "outputs": [],
   "source": [
    "import numpy as np\n",
    "import pandas as pd\n",
    "from sklearn.impute import SimpleImputer\n",
    "from sklearn.compose import ColumnTransformer\n",
    "from sklearn.pipeline import Pipeline\n",
    "from sklearn.preprocessing import LabelEncoder\n"
   ]
  },
  {
   "cell_type": "code",
   "execution_count": 2,
   "id": "ab04e8bd",
   "metadata": {},
   "outputs": [],
   "source": [
    "test=pd.read_csv(r'C:\\\\Users\\\\shankar\\\\Downloads\\\\testhouse.csv')\n",
    "train=pd.read_csv(r'C:\\\\Users\\\\shankar\\\\Downloads\\\\trainhouse.csv')"
   ]
  },
  {
   "cell_type": "code",
   "execution_count": 3,
   "id": "8ab84063",
   "metadata": {
    "scrolled": false
   },
   "outputs": [
    {
     "name": "stdout",
     "output_type": "stream",
     "text": [
      " shape of test house is  (1459, 80)\n",
      " shape of train house is  (1460, 81)\n"
     ]
    }
   ],
   "source": [
    "print(\" shape of test house is \",test.shape)\n",
    "print(\" shape of train house is \",train.shape)\n",
    "\n"
   ]
  },
  {
   "cell_type": "code",
   "execution_count": 4,
   "id": "f24be02d",
   "metadata": {},
   "outputs": [],
   "source": [
    "X_train=train.drop(columns=\"SalePrice\")\n",
    "# X is capital because it is matrix and  y is small because it is vector\n",
    "y_train=train['SalePrice']"
   ]
  },
  {
   "cell_type": "code",
   "execution_count": 5,
   "id": "a98d875f",
   "metadata": {},
   "outputs": [
    {
     "data": {
      "text/plain": [
       "0       208500\n",
       "1       181500\n",
       "2       223500\n",
       "3       140000\n",
       "4       250000\n",
       "         ...  \n",
       "1455    175000\n",
       "1456    210000\n",
       "1457    266500\n",
       "1458    142125\n",
       "1459    147500\n",
       "Name: SalePrice, Length: 1460, dtype: int64"
      ]
     },
     "execution_count": 5,
     "metadata": {},
     "output_type": "execute_result"
    }
   ],
   "source": [
    "y_train"
   ]
  },
  {
   "cell_type": "markdown",
   "id": "c6c1c96a",
   "metadata": {},
   "source": [
    "#         Numerical Missing Value Imputation"
   ]
  },
  {
   "cell_type": "code",
   "execution_count": 6,
   "id": "011d8938",
   "metadata": {
    "scrolled": true
   },
   "outputs": [
    {
     "data": {
      "text/plain": [
       "' looking the variable whether they contain the missing values or not '"
      ]
     },
     "execution_count": 6,
     "metadata": {},
     "output_type": "execute_result"
    }
   ],
   "source": [
    "num_var=X_train.select_dtypes(['int64','float64']).columns\n",
    "num_var\n",
    "\"\"\" looking the variable whether they contain the missing values or not \"\"\""
   ]
  },
  {
   "cell_type": "code",
   "execution_count": 7,
   "id": "2de7c516",
   "metadata": {
    "scrolled": true
   },
   "outputs": [
    {
     "data": {
      "text/plain": [
       "' finding the total number of missing variable '"
      ]
     },
     "execution_count": 7,
     "metadata": {},
     "output_type": "execute_result"
    }
   ],
   "source": [
    "X_train[num_var].isnull().sum()\n",
    "\"\"\" finding the total number of missing variable \"\"\""
   ]
  },
  {
   "cell_type": "code",
   "execution_count": 8,
   "id": "a29314d3",
   "metadata": {},
   "outputs": [],
   "source": [
    "imputer_mean=SimpleImputer(strategy='mean')\n",
    "# if we want to fill the value at our own value we fill the value 'Constant' in p\n",
    "# in place of \"mean\" ani teha fill value chha tesma value rakhney."
   ]
  },
  {
   "cell_type": "code",
   "execution_count": 9,
   "id": "e28af5d4",
   "metadata": {},
   "outputs": [
    {
     "data": {
      "text/html": [
       "<style>#sk-container-id-1 {color: black;}#sk-container-id-1 pre{padding: 0;}#sk-container-id-1 div.sk-toggleable {background-color: white;}#sk-container-id-1 label.sk-toggleable__label {cursor: pointer;display: block;width: 100%;margin-bottom: 0;padding: 0.3em;box-sizing: border-box;text-align: center;}#sk-container-id-1 label.sk-toggleable__label-arrow:before {content: \"▸\";float: left;margin-right: 0.25em;color: #696969;}#sk-container-id-1 label.sk-toggleable__label-arrow:hover:before {color: black;}#sk-container-id-1 div.sk-estimator:hover label.sk-toggleable__label-arrow:before {color: black;}#sk-container-id-1 div.sk-toggleable__content {max-height: 0;max-width: 0;overflow: hidden;text-align: left;background-color: #f0f8ff;}#sk-container-id-1 div.sk-toggleable__content pre {margin: 0.2em;color: black;border-radius: 0.25em;background-color: #f0f8ff;}#sk-container-id-1 input.sk-toggleable__control:checked~div.sk-toggleable__content {max-height: 200px;max-width: 100%;overflow: auto;}#sk-container-id-1 input.sk-toggleable__control:checked~label.sk-toggleable__label-arrow:before {content: \"▾\";}#sk-container-id-1 div.sk-estimator input.sk-toggleable__control:checked~label.sk-toggleable__label {background-color: #d4ebff;}#sk-container-id-1 div.sk-label input.sk-toggleable__control:checked~label.sk-toggleable__label {background-color: #d4ebff;}#sk-container-id-1 input.sk-hidden--visually {border: 0;clip: rect(1px 1px 1px 1px);clip: rect(1px, 1px, 1px, 1px);height: 1px;margin: -1px;overflow: hidden;padding: 0;position: absolute;width: 1px;}#sk-container-id-1 div.sk-estimator {font-family: monospace;background-color: #f0f8ff;border: 1px dotted black;border-radius: 0.25em;box-sizing: border-box;margin-bottom: 0.5em;}#sk-container-id-1 div.sk-estimator:hover {background-color: #d4ebff;}#sk-container-id-1 div.sk-parallel-item::after {content: \"\";width: 100%;border-bottom: 1px solid gray;flex-grow: 1;}#sk-container-id-1 div.sk-label:hover label.sk-toggleable__label {background-color: #d4ebff;}#sk-container-id-1 div.sk-serial::before {content: \"\";position: absolute;border-left: 1px solid gray;box-sizing: border-box;top: 0;bottom: 0;left: 50%;z-index: 0;}#sk-container-id-1 div.sk-serial {display: flex;flex-direction: column;align-items: center;background-color: white;padding-right: 0.2em;padding-left: 0.2em;position: relative;}#sk-container-id-1 div.sk-item {position: relative;z-index: 1;}#sk-container-id-1 div.sk-parallel {display: flex;align-items: stretch;justify-content: center;background-color: white;position: relative;}#sk-container-id-1 div.sk-item::before, #sk-container-id-1 div.sk-parallel-item::before {content: \"\";position: absolute;border-left: 1px solid gray;box-sizing: border-box;top: 0;bottom: 0;left: 50%;z-index: -1;}#sk-container-id-1 div.sk-parallel-item {display: flex;flex-direction: column;z-index: 1;position: relative;background-color: white;}#sk-container-id-1 div.sk-parallel-item:first-child::after {align-self: flex-end;width: 50%;}#sk-container-id-1 div.sk-parallel-item:last-child::after {align-self: flex-start;width: 50%;}#sk-container-id-1 div.sk-parallel-item:only-child::after {width: 0;}#sk-container-id-1 div.sk-dashed-wrapped {border: 1px dashed gray;margin: 0 0.4em 0.5em 0.4em;box-sizing: border-box;padding-bottom: 0.4em;background-color: white;}#sk-container-id-1 div.sk-label label {font-family: monospace;font-weight: bold;display: inline-block;line-height: 1.2em;}#sk-container-id-1 div.sk-label-container {text-align: center;}#sk-container-id-1 div.sk-container {/* jupyter's `normalize.less` sets `[hidden] { display: none; }` but bootstrap.min.css set `[hidden] { display: none !important; }` so we also need the `!important` here to be able to override the default hidden behavior on the sphinx rendered scikit-learn.org. See: https://github.com/scikit-learn/scikit-learn/issues/21755 */display: inline-block !important;position: relative;}#sk-container-id-1 div.sk-text-repr-fallback {display: none;}</style><div id=\"sk-container-id-1\" class=\"sk-top-container\"><div class=\"sk-text-repr-fallback\"><pre>SimpleImputer()</pre><b>In a Jupyter environment, please rerun this cell to show the HTML representation or trust the notebook. <br />On GitHub, the HTML representation is unable to render, please try loading this page with nbviewer.org.</b></div><div class=\"sk-container\" hidden><div class=\"sk-item\"><div class=\"sk-estimator sk-toggleable\"><input class=\"sk-toggleable__control sk-hidden--visually\" id=\"sk-estimator-id-1\" type=\"checkbox\" checked><label for=\"sk-estimator-id-1\" class=\"sk-toggleable__label sk-toggleable__label-arrow\">SimpleImputer</label><div class=\"sk-toggleable__content\"><pre>SimpleImputer()</pre></div></div></div></div></div>"
      ],
      "text/plain": [
       "SimpleImputer()"
      ]
     },
     "execution_count": 9,
     "metadata": {},
     "output_type": "execute_result"
    }
   ],
   "source": [
    "imputer_mean.fit(X_train[num_var])"
   ]
  },
  {
   "cell_type": "code",
   "execution_count": 10,
   "id": "c75270f8",
   "metadata": {},
   "outputs": [
    {
     "data": {
      "text/plain": [
       "array([7.30500000e+02, 5.68972603e+01, 7.00499584e+01, 1.05168281e+04,\n",
       "       6.09931507e+00, 5.57534247e+00, 1.97126781e+03, 1.98486575e+03,\n",
       "       1.03685262e+02, 4.43639726e+02, 4.65493151e+01, 5.67240411e+02,\n",
       "       1.05742945e+03, 1.16262671e+03, 3.46992466e+02, 5.84452055e+00,\n",
       "       1.51546370e+03, 4.25342466e-01, 5.75342466e-02, 1.56506849e+00,\n",
       "       3.82876712e-01, 2.86643836e+00, 1.04657534e+00, 6.51780822e+00,\n",
       "       6.13013699e-01, 1.97850616e+03, 1.76712329e+00, 4.72980137e+02,\n",
       "       9.42445205e+01, 4.66602740e+01, 2.19541096e+01, 3.40958904e+00,\n",
       "       1.50609589e+01, 2.75890411e+00, 4.34890411e+01, 6.32191781e+00,\n",
       "       2.00781575e+03])"
      ]
     },
     "execution_count": 10,
     "metadata": {},
     "output_type": "execute_result"
    }
   ],
   "source": [
    "imputer_mean.statistics_"
   ]
  },
  {
   "cell_type": "code",
   "execution_count": 11,
   "id": "fa28fa0d",
   "metadata": {},
   "outputs": [
    {
     "data": {
      "text/plain": [
       "array([[1.000e+00, 6.000e+01, 6.500e+01, ..., 0.000e+00, 2.000e+00,\n",
       "        2.008e+03],\n",
       "       [2.000e+00, 2.000e+01, 8.000e+01, ..., 0.000e+00, 5.000e+00,\n",
       "        2.007e+03],\n",
       "       [3.000e+00, 6.000e+01, 6.800e+01, ..., 0.000e+00, 9.000e+00,\n",
       "        2.008e+03],\n",
       "       ...,\n",
       "       [1.458e+03, 7.000e+01, 6.600e+01, ..., 2.500e+03, 5.000e+00,\n",
       "        2.010e+03],\n",
       "       [1.459e+03, 2.000e+01, 6.800e+01, ..., 0.000e+00, 4.000e+00,\n",
       "        2.010e+03],\n",
       "       [1.460e+03, 2.000e+01, 7.500e+01, ..., 0.000e+00, 6.000e+00,\n",
       "        2.008e+03]])"
      ]
     },
     "execution_count": 11,
     "metadata": {},
     "output_type": "execute_result"
    }
   ],
   "source": [
    "imputer_mean.transform(X_train[num_var])"
   ]
  },
  {
   "cell_type": "code",
   "execution_count": 12,
   "id": "2081503d",
   "metadata": {},
   "outputs": [],
   "source": [
    "X_train[num_var]=imputer_mean.transform(X_train[num_var])\n",
    "test[num_var]=imputer_mean.transform(test[num_var])"
   ]
  },
  {
   "cell_type": "code",
   "execution_count": 13,
   "id": "820ef353",
   "metadata": {},
   "outputs": [
    {
     "data": {
      "text/plain": [
       "Id               0\n",
       "MSSubClass       0\n",
       "LotFrontage      0\n",
       "LotArea          0\n",
       "OverallQual      0\n",
       "OverallCond      0\n",
       "YearBuilt        0\n",
       "YearRemodAdd     0\n",
       "MasVnrArea       0\n",
       "BsmtFinSF1       0\n",
       "BsmtFinSF2       0\n",
       "BsmtUnfSF        0\n",
       "TotalBsmtSF      0\n",
       "1stFlrSF         0\n",
       "2ndFlrSF         0\n",
       "LowQualFinSF     0\n",
       "GrLivArea        0\n",
       "BsmtFullBath     0\n",
       "BsmtHalfBath     0\n",
       "FullBath         0\n",
       "HalfBath         0\n",
       "BedroomAbvGr     0\n",
       "KitchenAbvGr     0\n",
       "TotRmsAbvGrd     0\n",
       "Fireplaces       0\n",
       "GarageYrBlt      0\n",
       "GarageCars       0\n",
       "GarageArea       0\n",
       "WoodDeckSF       0\n",
       "OpenPorchSF      0\n",
       "EnclosedPorch    0\n",
       "3SsnPorch        0\n",
       "ScreenPorch      0\n",
       "PoolArea         0\n",
       "MiscVal          0\n",
       "MoSold           0\n",
       "YrSold           0\n",
       "dtype: int64"
      ]
     },
     "execution_count": 13,
     "metadata": {},
     "output_type": "execute_result"
    }
   ],
   "source": [
    "X_train[num_var].isnull().sum()"
   ]
  },
  {
   "cell_type": "code",
   "execution_count": 14,
   "id": "02936a73",
   "metadata": {},
   "outputs": [
    {
     "data": {
      "text/plain": [
       "Id               0\n",
       "MSSubClass       0\n",
       "LotFrontage      0\n",
       "LotArea          0\n",
       "OverallQual      0\n",
       "OverallCond      0\n",
       "YearBuilt        0\n",
       "YearRemodAdd     0\n",
       "MasVnrArea       0\n",
       "BsmtFinSF1       0\n",
       "BsmtFinSF2       0\n",
       "BsmtUnfSF        0\n",
       "TotalBsmtSF      0\n",
       "1stFlrSF         0\n",
       "2ndFlrSF         0\n",
       "LowQualFinSF     0\n",
       "GrLivArea        0\n",
       "BsmtFullBath     0\n",
       "BsmtHalfBath     0\n",
       "FullBath         0\n",
       "HalfBath         0\n",
       "BedroomAbvGr     0\n",
       "KitchenAbvGr     0\n",
       "TotRmsAbvGrd     0\n",
       "Fireplaces       0\n",
       "GarageYrBlt      0\n",
       "GarageCars       0\n",
       "GarageArea       0\n",
       "WoodDeckSF       0\n",
       "OpenPorchSF      0\n",
       "EnclosedPorch    0\n",
       "3SsnPorch        0\n",
       "ScreenPorch      0\n",
       "PoolArea         0\n",
       "MiscVal          0\n",
       "MoSold           0\n",
       "YrSold           0\n",
       "dtype: int64"
      ]
     },
     "execution_count": 14,
     "metadata": {},
     "output_type": "execute_result"
    }
   ],
   "source": [
    "test[num_var].isnull().sum()"
   ]
  },
  {
   "cell_type": "markdown",
   "id": "261e9fdf",
   "metadata": {},
   "source": [
    "# Categorical missing value imputation"
   ]
  },
  {
   "cell_type": "code",
   "execution_count": 15,
   "id": "ad38e2a3",
   "metadata": {
    "scrolled": true
   },
   "outputs": [
    {
     "data": {
      "text/plain": [
       "Index(['MSZoning', 'Street', 'Alley', 'LotShape', 'LandContour', 'Utilities',\n",
       "       'LotConfig', 'LandSlope', 'Neighborhood', 'Condition1', 'Condition2',\n",
       "       'BldgType', 'HouseStyle', 'RoofStyle', 'RoofMatl', 'Exterior1st',\n",
       "       'Exterior2nd', 'MasVnrType', 'ExterQual', 'ExterCond', 'Foundation',\n",
       "       'BsmtQual', 'BsmtCond', 'BsmtExposure', 'BsmtFinType1', 'BsmtFinType2',\n",
       "       'Heating', 'HeatingQC', 'CentralAir', 'Electrical', 'KitchenQual',\n",
       "       'Functional', 'FireplaceQu', 'GarageType', 'GarageFinish', 'GarageQual',\n",
       "       'GarageCond', 'PavedDrive', 'PoolQC', 'Fence', 'MiscFeature',\n",
       "       'SaleType', 'SaleCondition'],\n",
       "      dtype='object')"
      ]
     },
     "execution_count": 15,
     "metadata": {},
     "output_type": "execute_result"
    }
   ],
   "source": [
    "cat_var=X_train.select_dtypes(['O']).columns\n",
    "cat_var"
   ]
  },
  {
   "cell_type": "code",
   "execution_count": 16,
   "id": "92c8af4e",
   "metadata": {
    "scrolled": true
   },
   "outputs": [
    {
     "data": {
      "text/plain": [
       "MSZoning            0\n",
       "Street              0\n",
       "Alley            1369\n",
       "LotShape            0\n",
       "LandContour         0\n",
       "Utilities           0\n",
       "LotConfig           0\n",
       "LandSlope           0\n",
       "Neighborhood        0\n",
       "Condition1          0\n",
       "Condition2          0\n",
       "BldgType            0\n",
       "HouseStyle          0\n",
       "RoofStyle           0\n",
       "RoofMatl            0\n",
       "Exterior1st         0\n",
       "Exterior2nd         0\n",
       "MasVnrType        872\n",
       "ExterQual           0\n",
       "ExterCond           0\n",
       "Foundation          0\n",
       "BsmtQual           37\n",
       "BsmtCond           37\n",
       "BsmtExposure       38\n",
       "BsmtFinType1       37\n",
       "BsmtFinType2       38\n",
       "Heating             0\n",
       "HeatingQC           0\n",
       "CentralAir          0\n",
       "Electrical          1\n",
       "KitchenQual         0\n",
       "Functional          0\n",
       "FireplaceQu       690\n",
       "GarageType         81\n",
       "GarageFinish       81\n",
       "GarageQual         81\n",
       "GarageCond         81\n",
       "PavedDrive          0\n",
       "PoolQC           1453\n",
       "Fence            1179\n",
       "MiscFeature      1406\n",
       "SaleType            0\n",
       "SaleCondition       0\n",
       "dtype: int64"
      ]
     },
     "execution_count": 16,
     "metadata": {},
     "output_type": "execute_result"
    }
   ],
   "source": [
    "X_train[cat_var].isnull().sum()"
   ]
  },
  {
   "cell_type": "code",
   "execution_count": 17,
   "id": "80a97de0",
   "metadata": {},
   "outputs": [],
   "source": [
    "imputer_mode=SimpleImputer(strategy='most_frequent')\n",
    "# if we want to fill the value at our own value we fill the value 'Constant' in p\n",
    "# in place of \"mean\" ani teha fill value chha tesma value rakhney."
   ]
  },
  {
   "cell_type": "code",
   "execution_count": 18,
   "id": "895eaf4a",
   "metadata": {
    "scrolled": true
   },
   "outputs": [
    {
     "ename": "SyntaxError",
     "evalue": "invalid syntax (4081793206.py, line 1)",
     "output_type": "error",
     "traceback": [
      "\u001b[1;36m  Cell \u001b[1;32mIn[18], line 1\u001b[1;36m\u001b[0m\n\u001b[1;33m    imputer_mode.\u001b[0m\n\u001b[1;37m                 ^\u001b[0m\n\u001b[1;31mSyntaxError\u001b[0m\u001b[1;31m:\u001b[0m invalid syntax\n"
     ]
    }
   ],
   "source": [
    "imputer_mode."
   ]
  },
  {
   "cell_type": "code",
   "execution_count": 19,
   "id": "fede04c6",
   "metadata": {},
   "outputs": [
    {
     "data": {
      "text/html": [
       "<style>#sk-container-id-2 {color: black;}#sk-container-id-2 pre{padding: 0;}#sk-container-id-2 div.sk-toggleable {background-color: white;}#sk-container-id-2 label.sk-toggleable__label {cursor: pointer;display: block;width: 100%;margin-bottom: 0;padding: 0.3em;box-sizing: border-box;text-align: center;}#sk-container-id-2 label.sk-toggleable__label-arrow:before {content: \"▸\";float: left;margin-right: 0.25em;color: #696969;}#sk-container-id-2 label.sk-toggleable__label-arrow:hover:before {color: black;}#sk-container-id-2 div.sk-estimator:hover label.sk-toggleable__label-arrow:before {color: black;}#sk-container-id-2 div.sk-toggleable__content {max-height: 0;max-width: 0;overflow: hidden;text-align: left;background-color: #f0f8ff;}#sk-container-id-2 div.sk-toggleable__content pre {margin: 0.2em;color: black;border-radius: 0.25em;background-color: #f0f8ff;}#sk-container-id-2 input.sk-toggleable__control:checked~div.sk-toggleable__content {max-height: 200px;max-width: 100%;overflow: auto;}#sk-container-id-2 input.sk-toggleable__control:checked~label.sk-toggleable__label-arrow:before {content: \"▾\";}#sk-container-id-2 div.sk-estimator input.sk-toggleable__control:checked~label.sk-toggleable__label {background-color: #d4ebff;}#sk-container-id-2 div.sk-label input.sk-toggleable__control:checked~label.sk-toggleable__label {background-color: #d4ebff;}#sk-container-id-2 input.sk-hidden--visually {border: 0;clip: rect(1px 1px 1px 1px);clip: rect(1px, 1px, 1px, 1px);height: 1px;margin: -1px;overflow: hidden;padding: 0;position: absolute;width: 1px;}#sk-container-id-2 div.sk-estimator {font-family: monospace;background-color: #f0f8ff;border: 1px dotted black;border-radius: 0.25em;box-sizing: border-box;margin-bottom: 0.5em;}#sk-container-id-2 div.sk-estimator:hover {background-color: #d4ebff;}#sk-container-id-2 div.sk-parallel-item::after {content: \"\";width: 100%;border-bottom: 1px solid gray;flex-grow: 1;}#sk-container-id-2 div.sk-label:hover label.sk-toggleable__label {background-color: #d4ebff;}#sk-container-id-2 div.sk-serial::before {content: \"\";position: absolute;border-left: 1px solid gray;box-sizing: border-box;top: 0;bottom: 0;left: 50%;z-index: 0;}#sk-container-id-2 div.sk-serial {display: flex;flex-direction: column;align-items: center;background-color: white;padding-right: 0.2em;padding-left: 0.2em;position: relative;}#sk-container-id-2 div.sk-item {position: relative;z-index: 1;}#sk-container-id-2 div.sk-parallel {display: flex;align-items: stretch;justify-content: center;background-color: white;position: relative;}#sk-container-id-2 div.sk-item::before, #sk-container-id-2 div.sk-parallel-item::before {content: \"\";position: absolute;border-left: 1px solid gray;box-sizing: border-box;top: 0;bottom: 0;left: 50%;z-index: -1;}#sk-container-id-2 div.sk-parallel-item {display: flex;flex-direction: column;z-index: 1;position: relative;background-color: white;}#sk-container-id-2 div.sk-parallel-item:first-child::after {align-self: flex-end;width: 50%;}#sk-container-id-2 div.sk-parallel-item:last-child::after {align-self: flex-start;width: 50%;}#sk-container-id-2 div.sk-parallel-item:only-child::after {width: 0;}#sk-container-id-2 div.sk-dashed-wrapped {border: 1px dashed gray;margin: 0 0.4em 0.5em 0.4em;box-sizing: border-box;padding-bottom: 0.4em;background-color: white;}#sk-container-id-2 div.sk-label label {font-family: monospace;font-weight: bold;display: inline-block;line-height: 1.2em;}#sk-container-id-2 div.sk-label-container {text-align: center;}#sk-container-id-2 div.sk-container {/* jupyter's `normalize.less` sets `[hidden] { display: none; }` but bootstrap.min.css set `[hidden] { display: none !important; }` so we also need the `!important` here to be able to override the default hidden behavior on the sphinx rendered scikit-learn.org. See: https://github.com/scikit-learn/scikit-learn/issues/21755 */display: inline-block !important;position: relative;}#sk-container-id-2 div.sk-text-repr-fallback {display: none;}</style><div id=\"sk-container-id-2\" class=\"sk-top-container\"><div class=\"sk-text-repr-fallback\"><pre>SimpleImputer(strategy=&#x27;most_frequent&#x27;)</pre><b>In a Jupyter environment, please rerun this cell to show the HTML representation or trust the notebook. <br />On GitHub, the HTML representation is unable to render, please try loading this page with nbviewer.org.</b></div><div class=\"sk-container\" hidden><div class=\"sk-item\"><div class=\"sk-estimator sk-toggleable\"><input class=\"sk-toggleable__control sk-hidden--visually\" id=\"sk-estimator-id-2\" type=\"checkbox\" checked><label for=\"sk-estimator-id-2\" class=\"sk-toggleable__label sk-toggleable__label-arrow\">SimpleImputer</label><div class=\"sk-toggleable__content\"><pre>SimpleImputer(strategy=&#x27;most_frequent&#x27;)</pre></div></div></div></div></div>"
      ],
      "text/plain": [
       "SimpleImputer(strategy='most_frequent')"
      ]
     },
     "execution_count": 19,
     "metadata": {},
     "output_type": "execute_result"
    }
   ],
   "source": [
    "imputer_mode.fit(X_train[cat_var])"
   ]
  },
  {
   "cell_type": "code",
   "execution_count": 20,
   "id": "5cdcfdb2",
   "metadata": {},
   "outputs": [
    {
     "data": {
      "text/plain": [
       "array(['RL', 'Pave', 'Grvl', 'Reg', 'Lvl', 'AllPub', 'Inside', 'Gtl',\n",
       "       'NAmes', 'Norm', 'Norm', '1Fam', '1Story', 'Gable', 'CompShg',\n",
       "       'VinylSd', 'VinylSd', 'BrkFace', 'TA', 'TA', 'PConc', 'TA', 'TA',\n",
       "       'No', 'Unf', 'Unf', 'GasA', 'Ex', 'Y', 'SBrkr', 'TA', 'Typ', 'Gd',\n",
       "       'Attchd', 'Unf', 'TA', 'TA', 'Y', 'Gd', 'MnPrv', 'Shed', 'WD',\n",
       "       'Normal'], dtype=object)"
      ]
     },
     "execution_count": 20,
     "metadata": {},
     "output_type": "execute_result"
    }
   ],
   "source": [
    "imputer_mode.statistics_"
   ]
  },
  {
   "cell_type": "code",
   "execution_count": null,
   "id": "9957a1a0",
   "metadata": {},
   "outputs": [],
   "source": [
    "X_train[cat_var]=imputer_mode.transform(X_train[cat_var])\n",
    "test[cat_var]=imputer_mode.transform(test[cat_var])"
   ]
  },
  {
   "cell_type": "code",
   "execution_count": null,
   "id": "67607bf9",
   "metadata": {},
   "outputs": [],
   "source": [
    "test[cat_var].isnull().sum()"
   ]
  },
  {
   "cell_type": "code",
   "execution_count": null,
   "id": "a8788cee",
   "metadata": {},
   "outputs": [],
   "source": [
    "X_train[cat_var].isnull().sum()"
   ]
  },
  {
   "cell_type": "markdown",
   "id": "f1c13b5b",
   "metadata": {},
   "source": [
    "# Next Tutorial Using pipelininig"
   ]
  },
  {
   "cell_type": "code",
   "execution_count": null,
   "id": "2e528528",
   "metadata": {},
   "outputs": [],
   "source": [
    "X_train=train.drop(columns=\"SalePrice\")\n",
    "y_train=train['SalePrice']\n",
    "X_test=test.copy()"
   ]
  },
  {
   "cell_type": "code",
   "execution_count": null,
   "id": "5864bfdd",
   "metadata": {},
   "outputs": [],
   "source": [
    "X_train.shape"
   ]
  },
  {
   "cell_type": "code",
   "execution_count": null,
   "id": "4e780d68",
   "metadata": {},
   "outputs": [],
   "source": [
    "y_train.shape"
   ]
  },
  {
   "cell_type": "markdown",
   "id": "9d4646a9",
   "metadata": {},
   "source": [
    "### missing value imputation"
   ]
  },
  {
   "cell_type": "code",
   "execution_count": null,
   "id": "28536115",
   "metadata": {},
   "outputs": [],
   "source": [
    "isnull_sum=X_train.isnull().sum()\n",
    "isnull_sum"
   ]
  },
  {
   "cell_type": "code",
   "execution_count": null,
   "id": "64c520da",
   "metadata": {},
   "outputs": [],
   "source": [
    "num_var=X_train.select_dtypes(['int64','float64']).columns\n",
    "num_var"
   ]
  },
  {
   "cell_type": "code",
   "execution_count": null,
   "id": "1e90638f",
   "metadata": {},
   "outputs": [],
   "source": [
    "X_train[num_var].isnull().sum()"
   ]
  },
  {
   "cell_type": "code",
   "execution_count": null,
   "id": "765cab82",
   "metadata": {},
   "outputs": [],
   "source": [
    "num_vars_miss=[var for var in num_var if isnull_sum[var]>0]\n",
    "num_vars_miss"
   ]
  },
  {
   "cell_type": "code",
   "execution_count": null,
   "id": "ee0b13d0",
   "metadata": {
    "scrolled": true
   },
   "outputs": [],
   "source": [
    "cat_var=X_train.select_dtypes(['O']).columns\n",
    "cat_var_miss=[var for var in cat_var if isnull_sum[var]>0]\n",
    "cat_var_miss"
   ]
  },
  {
   "cell_type": "code",
   "execution_count": null,
   "id": "04690c0c",
   "metadata": {},
   "outputs": [],
   "source": [
    "num_var_mean=['LotFrontage']\n",
    "num_var_median=['MasVnrArea','GarageYrBlt']\n",
    "cat_var_mode=['Alley',\n",
    " 'MasVnrType',\n",
    " 'BsmtQual',\n",
    " 'BsmtCond',\n",
    " 'BsmtExposure',\n",
    " 'BsmtFinType1',\n",
    " 'BsmtFinType2',\n",
    " 'Electrical',\n",
    " 'FireplaceQu',]\n",
    "cat_var_missing=['GarageType',\n",
    " 'GarageFinish',\n",
    " 'GarageQual',\n",
    " 'GarageCond',\n",
    " 'PoolQC',\n",
    " 'Fence',\n",
    " 'MiscFeature']"
   ]
  },
  {
   "cell_type": "code",
   "execution_count": null,
   "id": "a3ecdaad",
   "metadata": {},
   "outputs": [],
   "source": [
    "num_var_mean_imputer=Pipeline(steps=[('imputer',SimpleImputer(strategy='mean'))])\n",
    "num_var_medain_imputer=Pipeline(steps=[('imputer',SimpleImputer(strategy='median'))])\n",
    "cat_var_mode_imputer=Pipeline(steps=[('imputer',SimpleImputer(strategy='most_frequent'))])\n",
    "cat_var_missing_imputer=Pipeline(steps=[('imputer',SimpleImputer(strategy='constant',fill_value=\"Missing\"))])"
   ]
  },
  {
   "cell_type": "code",
   "execution_count": null,
   "id": "02eaa85e",
   "metadata": {},
   "outputs": [],
   "source": [
    "preprocessor=ColumnTransformer(transformers=[('mean_imputer',num_var_mean_imputer,num_var_mean),\n",
    "                                ('median_imputer',num_var_medain_imputer,num_var_median),\n",
    "                               ('mode_imputer',cat_var_mode_imputer,cat_var_mode),\n",
    "                               ('missing_imputer',cat_var_missing_imputer,cat_var_missing)])"
   ]
  },
  {
   "cell_type": "code",
   "execution_count": null,
   "id": "34748d68",
   "metadata": {},
   "outputs": [],
   "source": [
    "preprocessor.fit(X_train)"
   ]
  },
  {
   "cell_type": "code",
   "execution_count": null,
   "id": "f13c8998",
   "metadata": {
    "scrolled": true
   },
   "outputs": [],
   "source": [
    "preprocessor.named_transformers_['mean_imputer'].named_steps['imputer'].statistics_"
   ]
  },
  {
   "cell_type": "code",
   "execution_count": null,
   "id": "ed091403",
   "metadata": {
    "scrolled": true
   },
   "outputs": [],
   "source": [
    "preprocessor.named_transformers_['median_imputer'].named_steps['imputer'].statistics_"
   ]
  },
  {
   "cell_type": "code",
   "execution_count": null,
   "id": "302d3fb0",
   "metadata": {
    "scrolled": true
   },
   "outputs": [],
   "source": [
    "preprocessor.named_transformers_['mode_imputer'].named_steps['imputer'].statistics_"
   ]
  },
  {
   "cell_type": "code",
   "execution_count": null,
   "id": "e52385ee",
   "metadata": {
    "scrolled": true
   },
   "outputs": [],
   "source": [
    "preprocessor.named_transformers_['missing_imputer'].named_steps['imputer'].statistics_"
   ]
  },
  {
   "cell_type": "code",
   "execution_count": null,
   "id": "42613fc7",
   "metadata": {},
   "outputs": [],
   "source": [
    "train['LotFrontage'].mean()"
   ]
  },
  {
   "cell_type": "code",
   "execution_count": null,
   "id": "ccac8121",
   "metadata": {},
   "outputs": [],
   "source": [
    "X_train_clean=preprocessor.transform(X_train)\n",
    "X_test_clean=preprocessor.transform(X_test)"
   ]
  },
  {
   "cell_type": "code",
   "execution_count": null,
   "id": "b92254e6",
   "metadata": {
    "scrolled": false
   },
   "outputs": [],
   "source": [
    "X_train_clean"
   ]
  },
  {
   "cell_type": "code",
   "execution_count": null,
   "id": "f233eeaa",
   "metadata": {},
   "outputs": [],
   "source": [
    "preprocessor.transformers_"
   ]
  },
  {
   "cell_type": "code",
   "execution_count": null,
   "id": "fa79a171",
   "metadata": {},
   "outputs": [],
   "source": [
    "X_train_clean_missing_var=pd.DataFrame(X_train_clean,columns=num_var_mean+num_var_median+cat_var_mode+cat_var_missing)"
   ]
  },
  {
   "cell_type": "code",
   "execution_count": null,
   "id": "d3eb5393",
   "metadata": {
    "scrolled": true
   },
   "outputs": [],
   "source": [
    "X_train_clean_missing_var.isnull().sum()"
   ]
  },
  {
   "cell_type": "markdown",
   "id": "1dd04b87",
   "metadata": {},
   "source": [
    "# "
   ]
  },
  {
   "cell_type": "markdown",
   "id": "f686d85e",
   "metadata": {},
   "source": [
    "# Catogorical variable encoding "
   ]
  },
  {
   "cell_type": "code",
   "execution_count": null,
   "id": "27f693b0",
   "metadata": {},
   "outputs": [],
   "source": [
    "tips_df=pd.read_csv(r'C:\\\\Users\\\\shankar\\\\Downloads\\\\tips.csv')"
   ]
  },
  {
   "cell_type": "code",
   "execution_count": null,
   "id": "60655dd8",
   "metadata": {
    "scrolled": false
   },
   "outputs": [],
   "source": [
    "tips_df"
   ]
  },
  {
   "cell_type": "code",
   "execution_count": null,
   "id": "da010187",
   "metadata": {},
   "outputs": [],
   "source": [
    "object_data=tips_df.select_dtypes(['O']).keys()\n",
    "object_data"
   ]
  },
  {
   "cell_type": "code",
   "execution_count": null,
   "id": "c655e7ca",
   "metadata": {
    "scrolled": true
   },
   "outputs": [],
   "source": [
    "dummy_var=pd.get_dummies(tips_df)\n",
    "dummy_var"
   ]
  },
  {
   "cell_type": "code",
   "execution_count": null,
   "id": "da08849b",
   "metadata": {
    "scrolled": true
   },
   "outputs": [],
   "source": [
    "pd.get_dummies(tips_df,drop_first=True)\n"
   ]
  },
  {
   "cell_type": "markdown",
   "id": "d481fc7f",
   "metadata": {},
   "source": [
    "# one -Hot Encoding with Scikit-learn"
   ]
  },
  {
   "cell_type": "code",
   "execution_count": null,
   "id": "67ec28fc",
   "metadata": {},
   "outputs": [],
   "source": [
    "from sklearn.preprocessing import OneHotEncoder"
   ]
  },
  {
   "cell_type": "code",
   "execution_count": null,
   "id": "eca4a947",
   "metadata": {},
   "outputs": [],
   "source": [
    "oh_enc=OneHotEncoder(sparse=False)"
   ]
  },
  {
   "cell_type": "code",
   "execution_count": null,
   "id": "ae5f7da5",
   "metadata": {},
   "outputs": [],
   "source": [
    "oh_enc_arr=oh_enc.fit_transform(tips_df[['sex','smoker','day','time']])\n",
    "oh_enc_arr"
   ]
  },
  {
   "cell_type": "code",
   "execution_count": null,
   "id": "b5dd4a62",
   "metadata": {},
   "outputs": [],
   "source": [
    "dummy_var.keys()"
   ]
  },
  {
   "cell_type": "code",
   "execution_count": null,
   "id": "90dc0bf3",
   "metadata": {
    "scrolled": true
   },
   "outputs": [],
   "source": [
    "oh_enc_df = pd.DataFrame(oh_enc_arr, columns=['sex_Female', 'sex_Male', 'smoker_No',\n",
    "       'smoker_Yes', 'day_Fri', 'day_Sat', 'day_Sun', 'day_Thur',\n",
    "       'time_Dinner', 'time_Lunch'])\n",
    "oh_enc_df"
   ]
  },
  {
   "cell_type": "markdown",
   "id": "80531039",
   "metadata": {},
   "source": [
    "# Ordinal variable  and nominal variable "
   ]
  },
  {
   "cell_type": "code",
   "execution_count": null,
   "id": "aa520c26",
   "metadata": {},
   "outputs": [],
   "source": [
    "import pandas as pd\n",
    "from sklearn.preprocessing import LabelEncoder"
   ]
  },
  {
   "cell_type": "code",
   "execution_count": null,
   "id": "1c492d30",
   "metadata": {},
   "outputs": [],
   "source": [
    "df=pd.read_csv(r'C:\\\\Users\\\\shankar\\\\Downloads\\\\trainhouse.csv')\n",
    "df"
   ]
  },
  {
   "cell_type": "code",
   "execution_count": null,
   "id": "899a3750",
   "metadata": {},
   "outputs": [],
   "source": [
    "df.keys()"
   ]
  },
  {
   "cell_type": "code",
   "execution_count": null,
   "id": "050ddc91",
   "metadata": {
    "scrolled": true
   },
   "outputs": [],
   "source": [
    "df2=df[['KitchenQual','BldgType']]"
   ]
  },
  {
   "cell_type": "code",
   "execution_count": null,
   "id": "1119f0f7",
   "metadata": {},
   "outputs": [],
   "source": [
    "le=LabelEncoder()"
   ]
  },
  {
   "cell_type": "code",
   "execution_count": null,
   "id": "b2f4e9ca",
   "metadata": {},
   "outputs": [],
   "source": [
    "le.fit_transform(df2['BldgType'])"
   ]
  },
  {
   "cell_type": "code",
   "execution_count": null,
   "id": "fa6e778d",
   "metadata": {},
   "outputs": [],
   "source": [
    "df2['BldgType_L_enc']=le.fit_transform(df2['BldgType'])\n",
    "df2\n"
   ]
  },
  {
   "cell_type": "code",
   "execution_count": null,
   "id": "26c06786",
   "metadata": {},
   "outputs": [],
   "source": [
    "df[\"KitchenQual\"].value_counts()"
   ]
  },
  {
   "cell_type": "code",
   "execution_count": null,
   "id": "4ac47cc2",
   "metadata": {},
   "outputs": [],
   "source": [
    "order_Label={'Ex':4,'Gd':3,'TA':2,'FA':1}"
   ]
  },
  {
   "cell_type": "code",
   "execution_count": null,
   "id": "3b9ab36b",
   "metadata": {},
   "outputs": [],
   "source": [
    "df2['KitchenQual_org_enc']=  df2['KitchenQual'].map(order_Label)\n",
    "df2"
   ]
  },
  {
   "cell_type": "markdown",
   "id": "fbf79133",
   "metadata": {},
   "source": [
    "# Catogorical variable encoding "
   ]
  },
  {
   "cell_type": "markdown",
   "id": "e1f7034a",
   "metadata": {},
   "source": [
    "##### norminal variable are those which has same level values "
   ]
  },
  {
   "cell_type": "markdown",
   "id": "0bb5fec6",
   "metadata": {},
   "source": [
    "## Ordinal Encoding   \n",
    "<!--  -->apply the ordinal categorical variable "
   ]
  },
  {
   "cell_type": "markdown",
   "id": "be0f8211",
   "metadata": {},
   "source": [
    "<!--  im --> importing necessary liberary"
   ]
  },
  {
   "cell_type": "code",
   "execution_count": null,
   "id": "3624f6c3",
   "metadata": {},
   "outputs": [],
   "source": [
    "df=pd.read_csv(r'C:\\\\Users\\\\shankar\\\\Downloads\\\\trainhouse.csv')\n",
    "df"
   ]
  },
  {
   "cell_type": "markdown",
   "id": "14ce52a7",
   "metadata": {},
   "source": [
    "# Feature scaling \n",
    "is the method of  to scale numeric features in the sam scale or range (like -1 to 1) o to 1 -->\n",
    "<!--  -->this is the last step \n",
    "<!--  -->we apply feature scaling on independent variable \n",
    "<!--  -->we fit features scaling with train data and transform"
   ]
  },
  {
   "cell_type": "markdown",
   "id": "779daa37",
   "metadata": {},
   "source": [
    "##### Algorithms which require feature scaling \n",
    "<!--  --> * k-Nearest Neighbors(kNN)\n",
    "\n",
    " k-means\n",
    " \n",
    "\n",
    "support vector machine \n",
    "principa componet analysis\n",
    "linear Discriminant analaysis"
   ]
  },
  {
   "cell_type": "markdown",
   "id": "0fb8b849",
   "metadata": {},
   "source": [
    "# Treee based Algorithms doesn't require Feature Scaling\n",
    "<!--  --> Decision Tree \n",
    "random forest ,\n",
    "XGBoost"
   ]
  },
  {
   "cell_type": "markdown",
   "id": "9b79d44d",
   "metadata": {},
   "source": [
    "# Standardization \n",
    "<!--  --> Standardisation rescale the feature such as \n",
    "mean=0 and standard deviation =1\n",
    "\n",
    "The result of sandaddistion is z called as Z-score normalisation\n"
   ]
  },
  {
   "cell_type": "markdown",
   "id": "dcc9008d",
   "metadata": {},
   "source": [
    "# Normalization\n",
    "<!--  -->Normalisation the feature in fixed ranfe between 0 and 1\n",
    "it is called min max scaling \n"
   ]
  },
  {
   "cell_type": "code",
   "execution_count": null,
   "id": "9e3f87a2",
   "metadata": {},
   "outputs": [],
   "source": [
    "import seaborn as sns\n",
    "from sklearn.preprocessing import StandardScaler\n",
    "from sklearn.preprocessing import MinMaxScaler\n",
    "from sklearn.model_selection import train_test_split\n"
   ]
  },
  {
   "cell_type": "code",
   "execution_count": null,
   "id": "ade29a74",
   "metadata": {
    "scrolled": true
   },
   "outputs": [],
   "source": [
    "df=sns.load_dataset(\"titanic\")\n",
    "df.head()"
   ]
  },
  {
   "cell_type": "code",
   "execution_count": null,
   "id": "ef90bdc8",
   "metadata": {},
   "outputs": [],
   "source": [
    "df2=df[['survived','pclass','age','parch']]\n",
    "df2.head()"
   ]
  },
  {
   "cell_type": "code",
   "execution_count": null,
   "id": "fe5fcfdb",
   "metadata": {},
   "outputs": [],
   "source": [
    "df3=df2.fillna(df2.mean())"
   ]
  },
  {
   "cell_type": "code",
   "execution_count": null,
   "id": "9950ca9f",
   "metadata": {},
   "outputs": [],
   "source": [
    "X=df3.drop('survived',axis=1)\n",
    "y=df3['survived']\n",
    "print('shape of x =',X.shape)\n",
    "print('shape of y=',y.shape)"
   ]
  },
  {
   "cell_type": "code",
   "execution_count": null,
   "id": "1e548db6",
   "metadata": {},
   "outputs": [],
   "source": [
    "X_train,X_test,y_train,y_test=train_test_split(X,y,test_size=0.2,random_state=51)"
   ]
  },
  {
   "cell_type": "code",
   "execution_count": null,
   "id": "7d2b6ddb",
   "metadata": {},
   "outputs": [],
   "source": [
    "print('shape of x train =',X_train.shape)\n",
    "print('shape of x_test =',X_test.shape)\n",
    "print('shape of y_train =',y_train.shape)\n",
    "print('shape of y test =',y_test.shape)\n"
   ]
  },
  {
   "cell_type": "code",
   "execution_count": null,
   "id": "69e7b5c7",
   "metadata": {},
   "outputs": [],
   "source": [
    "sc=StandardScaler()\n",
    "sc.fit(X_train)"
   ]
  },
  {
   "cell_type": "code",
   "execution_count": null,
   "id": "3622659a",
   "metadata": {
    "scrolled": true
   },
   "outputs": [],
   "source": [
    "sc.mean_"
   ]
  },
  {
   "cell_type": "code",
   "execution_count": null,
   "id": "82d4af41",
   "metadata": {
    "scrolled": true
   },
   "outputs": [],
   "source": [
    "X_train.describe()"
   ]
  },
  {
   "cell_type": "code",
   "execution_count": null,
   "id": "80d6fa54",
   "metadata": {},
   "outputs": [],
   "source": [
    "X_train_sc=sc.transform(X_train)\n",
    "X_test_sc=sc.transform(X_test)"
   ]
  },
  {
   "cell_type": "code",
   "execution_count": null,
   "id": "a6211b78",
   "metadata": {
    "scrolled": true
   },
   "outputs": [],
   "source": [
    "X_train_sc"
   ]
  },
  {
   "cell_type": "code",
   "execution_count": null,
   "id": "3461a311",
   "metadata": {},
   "outputs": [],
   "source": [
    "import pandas as pd"
   ]
  },
  {
   "cell_type": "code",
   "execution_count": null,
   "id": "f34ab3e8",
   "metadata": {},
   "outputs": [],
   "source": [
    "X_train_sc=pd.DataFrame(X_train_sc,columns=['pclass','age','parch'])\n",
    "X_test_sc=pd.DataFrame(X_test_sc,columns=['pclass','age','parch'])"
   ]
  },
  {
   "cell_type": "code",
   "execution_count": null,
   "id": "8fc7bcaa",
   "metadata": {},
   "outputs": [],
   "source": [
    "X_train_sc.describe().round(2)"
   ]
  },
  {
   "cell_type": "code",
   "execution_count": null,
   "id": "386e52a5",
   "metadata": {
    "scrolled": true
   },
   "outputs": [],
   "source": [
    "mmc=MinMaxScaler()\n",
    "mmc.fit(X_train)"
   ]
  },
  {
   "cell_type": "code",
   "execution_count": null,
   "id": "1c632ecb",
   "metadata": {},
   "outputs": [],
   "source": [
    "X_train_mmc=mmc.transform(X_train)\n",
    "X_test_mmc=mmc.transform(X_test)"
   ]
  },
  {
   "cell_type": "code",
   "execution_count": null,
   "id": "f682aab2",
   "metadata": {},
   "outputs": [],
   "source": [
    "X_train_mmc"
   ]
  },
  {
   "cell_type": "code",
   "execution_count": null,
   "id": "ece699cb",
   "metadata": {},
   "outputs": [],
   "source": [
    "X_train_mmc=pd.DataFrame(X_train_mmc,columns=['pclass','age','parch'])\n",
    "X_test_mmc=pd.DataFrame(X_test_mmc,columns=['pclass','age','parch'])"
   ]
  },
  {
   "cell_type": "code",
   "execution_count": null,
   "id": "98f632f4",
   "metadata": {},
   "outputs": [],
   "source": [
    "X_train_mmc.describe().round(2)"
   ]
  },
  {
   "cell_type": "code",
   "execution_count": null,
   "id": "c59a8460",
   "metadata": {},
   "outputs": [],
   "source": [
    "sns.pairplot(X_train)"
   ]
  },
  {
   "cell_type": "code",
   "execution_count": null,
   "id": "93544732",
   "metadata": {},
   "outputs": [],
   "source": [
    "sns.pairplot(X_train_mmc)"
   ]
  },
  {
   "cell_type": "markdown",
   "id": "a49accc9",
   "metadata": {},
   "source": [
    "# Training and Testing Data \n",
    "<!--  -->train_Train and test"
   ]
  },
  {
   "cell_type": "code",
   "execution_count": null,
   "id": "487f575b",
   "metadata": {},
   "outputs": [],
   "source": [
    "import pandas as pd \n",
    "import seaborn as sns\n"
   ]
  },
  {
   "cell_type": "code",
   "execution_count": null,
   "id": "50c47e2c",
   "metadata": {},
   "outputs": [],
   "source": [
    "df=sns.load_dataset(\"titanic\")"
   ]
  },
  {
   "cell_type": "code",
   "execution_count": null,
   "id": "bc2b01f7",
   "metadata": {},
   "outputs": [],
   "source": [
    "df.keys()"
   ]
  },
  {
   "cell_type": "code",
   "execution_count": null,
   "id": "1939302e",
   "metadata": {},
   "outputs": [],
   "source": [
    "df2=df[['survived','pclass','age','parch']]\n",
    "df3=df2.fillna(df2.mean())\n",
    "df3"
   ]
  },
  {
   "cell_type": "code",
   "execution_count": null,
   "id": "49225042",
   "metadata": {},
   "outputs": [],
   "source": [
    "X=df3.drop('survived',axis=1)\n",
    "y=df3['survived']\n",
    "print('shape of x=',X.shape)\n",
    "print('shape of y=',y.shape)"
   ]
  },
  {
   "cell_type": "code",
   "execution_count": 22,
   "id": "a9e5d639",
   "metadata": {},
   "outputs": [],
   "source": [
    "from sklearn.model_selection import train_test_split"
   ]
  },
  {
   "cell_type": "code",
   "execution_count": 23,
   "id": "d549ca28",
   "metadata": {
    "scrolled": true
   },
   "outputs": [
    {
     "ename": "NameError",
     "evalue": "name 'X' is not defined",
     "output_type": "error",
     "traceback": [
      "\u001b[1;31m---------------------------------------------------------------------------\u001b[0m",
      "\u001b[1;31mNameError\u001b[0m                                 Traceback (most recent call last)",
      "Cell \u001b[1;32mIn[23], line 1\u001b[0m\n\u001b[1;32m----> 1\u001b[0m X_train,X_test,y_train,y_test\u001b[38;5;241m=\u001b[39mtrain_test_split(\u001b[43mX\u001b[49m,y,test_size\u001b[38;5;241m=\u001b[39m\u001b[38;5;241m.3\u001b[39m,random_state\u001b[38;5;241m=\u001b[39m\u001b[38;5;241m51\u001b[39m)\n\u001b[0;32m      2\u001b[0m \u001b[38;5;28mprint\u001b[39m(\u001b[38;5;124m\"\u001b[39m\u001b[38;5;124mshape of X_train\u001b[39m\u001b[38;5;124m\"\u001b[39m,X_train\u001b[38;5;241m.\u001b[39mshape)\n\u001b[0;32m      3\u001b[0m \u001b[38;5;28mprint\u001b[39m(\u001b[38;5;124m\"\u001b[39m\u001b[38;5;124mshape of X_test\u001b[39m\u001b[38;5;124m\"\u001b[39m,X_test\u001b[38;5;241m.\u001b[39mshape)\n",
      "\u001b[1;31mNameError\u001b[0m: name 'X' is not defined"
     ]
    }
   ],
   "source": [
    "X_train,X_test,y_train,y_test=train_test_split(X,y,test_size=.3,random_state=51)\n",
    "print(\"shape of X_train\",X_train.shape)\n",
    "print(\"shape of X_test\",X_test.shape)\n",
    "print(\"shape of y_train\",y_train.shape)\n",
    "print(\"shape of y_test\",y_test.shape)"
   ]
  },
  {
   "cell_type": "code",
   "execution_count": null,
   "id": "37cc6e4e",
   "metadata": {},
   "outputs": [],
   "source": [
    "X_train"
   ]
  },
  {
   "cell_type": "code",
   "execution_count": null,
   "id": "500549bf",
   "metadata": {},
   "outputs": [],
   "source": []
  }
 ],
 "metadata": {
  "kernelspec": {
   "display_name": "Python 3 (ipykernel)",
   "language": "python",
   "name": "python3"
  },
  "language_info": {
   "codemirror_mode": {
    "name": "ipython",
    "version": 3
   },
   "file_extension": ".py",
   "mimetype": "text/x-python",
   "name": "python",
   "nbconvert_exporter": "python",
   "pygments_lexer": "ipython3",
   "version": "3.11.4"
  }
 },
 "nbformat": 4,
 "nbformat_minor": 5
}
