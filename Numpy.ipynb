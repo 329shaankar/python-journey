{
 "cells": [
  {
   "cell_type": "code",
   "execution_count": 1,
   "id": "d98465c0",
   "metadata": {},
   "outputs": [],
   "source": [
    "import numpy as np"
   ]
  },
  {
   "cell_type": "code",
   "execution_count": 2,
   "id": "b2096e09",
   "metadata": {},
   "outputs": [
    {
     "name": "stdout",
     "output_type": "stream",
     "text": [
      "[1 2 3 4]\n"
     ]
    }
   ],
   "source": [
    "arr=np.array([1,2,3,4,])\n",
    "print(arr)"
   ]
  },
  {
   "cell_type": "code",
   "execution_count": 3,
   "id": "3d3af412",
   "metadata": {},
   "outputs": [
    {
     "data": {
      "text/plain": [
       "numpy.ndarray"
      ]
     },
     "execution_count": 3,
     "metadata": {},
     "output_type": "execute_result"
    }
   ],
   "source": [
    "type(arr)"
   ]
  },
  {
   "cell_type": "code",
   "execution_count": 4,
   "id": "01a8e156",
   "metadata": {},
   "outputs": [
    {
     "data": {
      "text/plain": [
       "array([[1, 2, 3],\n",
       "       [5, 6, 7]])"
      ]
     },
     "execution_count": 4,
     "metadata": {},
     "output_type": "execute_result"
    }
   ],
   "source": [
    "d2=np.array([[1,2,3],[5,6,7]])\n",
    "d2"
   ]
  },
  {
   "cell_type": "code",
   "execution_count": 5,
   "id": "68cd4f4b",
   "metadata": {},
   "outputs": [
    {
     "data": {
      "text/plain": [
       "numpy.ndarray"
      ]
     },
     "execution_count": 5,
     "metadata": {},
     "output_type": "execute_result"
    }
   ],
   "source": [
    "type(d2)"
   ]
  },
  {
   "cell_type": "code",
   "execution_count": 6,
   "id": "51a9d508",
   "metadata": {},
   "outputs": [
    {
     "data": {
      "text/plain": [
       "2"
      ]
     },
     "execution_count": 6,
     "metadata": {},
     "output_type": "execute_result"
    }
   ],
   "source": [
    "d2.ndim"
   ]
  },
  {
   "cell_type": "code",
   "execution_count": 7,
   "id": "70290869",
   "metadata": {
    "scrolled": true
   },
   "outputs": [
    {
     "data": {
      "text/plain": [
       "6"
      ]
     },
     "execution_count": 7,
     "metadata": {},
     "output_type": "execute_result"
    }
   ],
   "source": [
    "d2.size\n"
   ]
  },
  {
   "cell_type": "code",
   "execution_count": 8,
   "id": "69c1c08b",
   "metadata": {},
   "outputs": [
    {
     "data": {
      "text/plain": [
       "(2, 3)"
      ]
     },
     "execution_count": 8,
     "metadata": {},
     "output_type": "execute_result"
    }
   ],
   "source": [
    "d2.shape"
   ]
  },
  {
   "cell_type": "code",
   "execution_count": 9,
   "id": "b7cf5188",
   "metadata": {
    "scrolled": true
   },
   "outputs": [
    {
     "data": {
      "text/plain": [
       "array([[1., 1., 1., 1., 1.],\n",
       "       [1., 1., 1., 1., 1.],\n",
       "       [1., 1., 1., 1., 1.],\n",
       "       [1., 1., 1., 1., 1.],\n",
       "       [1., 1., 1., 1., 1.]])"
      ]
     },
     "execution_count": 9,
     "metadata": {},
     "output_type": "execute_result"
    }
   ],
   "source": [
    "n=np.ones((5,5))\n",
    "n"
   ]
  },
  {
   "cell_type": "code",
   "execution_count": null,
   "id": "228ae651",
   "metadata": {},
   "outputs": [],
   "source": []
  },
  {
   "cell_type": "code",
   "execution_count": 10,
   "id": "686a974d",
   "metadata": {
    "scrolled": true
   },
   "outputs": [
    {
     "data": {
      "text/plain": [
       "array([[ True,  True,  True,  True,  True,  True,  True,  True,  True,\n",
       "         True,  True,  True,  True,  True,  True,  True,  True,  True,\n",
       "         True,  True,  True,  True,  True,  True,  True],\n",
       "       [ True,  True,  True,  True,  True,  True,  True,  True,  True,\n",
       "         True,  True,  True,  True,  True,  True,  True,  True,  True,\n",
       "         True,  True,  True,  True,  True,  True,  True],\n",
       "       [ True,  True,  True,  True,  True,  True,  True,  True,  True,\n",
       "         True,  True,  True,  True,  True,  True,  True,  True,  True,\n",
       "         True,  True,  True,  True,  True,  True,  True],\n",
       "       [ True,  True,  True,  True,  True,  True,  True,  True,  True,\n",
       "         True,  True,  True,  True,  True,  True,  True,  True,  True,\n",
       "         True,  True,  True,  True,  True,  True,  True],\n",
       "       [ True,  True,  True,  True,  True,  True,  True,  True,  True,\n",
       "         True,  True,  True,  True,  True,  True,  True,  True,  True,\n",
       "         True,  True,  True,  True,  True,  True,  True]])"
      ]
     },
     "execution_count": 10,
     "metadata": {},
     "output_type": "execute_result"
    }
   ],
   "source": [
    "np.ones((5,25),dtype=bool)"
   ]
  },
  {
   "cell_type": "code",
   "execution_count": 11,
   "id": "8f0cc40e",
   "metadata": {
    "scrolled": true
   },
   "outputs": [
    {
     "data": {
      "text/plain": [
       "array([[-1068764456,         445,          64,           0,           0],\n",
       "       [          0,           0,           0,           0,          55],\n",
       "       [  942682935,   959788854,   842347575,   962934067,  1701143090],\n",
       "       [  909664865,   808870450,  1681209190,   862009141,   946091572],\n",
       "       [ 1681143608,   828520505,  1633825889,   895824230,   811677282]])"
      ]
     },
     "execution_count": 11,
     "metadata": {},
     "output_type": "execute_result"
    }
   ],
   "source": [
    "mx=np.empty((5,5),dtype=int)\n",
    "mx"
   ]
  },
  {
   "cell_type": "markdown",
   "id": "b4095683",
   "metadata": {},
   "source": [
    "# Numpy"
   ]
  },
  {
   "cell_type": "code",
   "execution_count": 12,
   "id": "4b6b671e",
   "metadata": {},
   "outputs": [
    {
     "data": {
      "text/plain": [
       "array([ 1,  2,  3,  4,  5,  6,  7,  8,  9, 10, 11, 12])"
      ]
     },
     "execution_count": 12,
     "metadata": {},
     "output_type": "execute_result"
    }
   ],
   "source": [
    "ary=np.arange(1,13)\n",
    "ary"
   ]
  },
  {
   "cell_type": "code",
   "execution_count": 13,
   "id": "a15f1007",
   "metadata": {},
   "outputs": [
    {
     "data": {
      "text/plain": [
       "array([ 1,  3,  5,  7,  9, 11])"
      ]
     },
     "execution_count": 13,
     "metadata": {},
     "output_type": "execute_result"
    }
   ],
   "source": [
    "odr=np.arange(1,13,2)\n",
    "odr"
   ]
  },
  {
   "cell_type": "code",
   "execution_count": 14,
   "id": "7f4ff150",
   "metadata": {
    "scrolled": true
   },
   "outputs": [
    {
     "data": {
      "text/plain": [
       "array([ 2,  4,  6,  8, 10, 12, 14])"
      ]
     },
     "execution_count": 14,
     "metadata": {},
     "output_type": "execute_result"
    }
   ],
   "source": [
    "evn=np.arange(2,15,2)\n",
    "evn"
   ]
  },
  {
   "cell_type": "markdown",
   "id": "3211c5c1",
   "metadata": {},
   "source": [
    "# # linspace"
   ]
  },
  {
   "cell_type": "code",
   "execution_count": 15,
   "id": "d954e6ae",
   "metadata": {},
   "outputs": [
    {
     "data": {
      "text/plain": [
       "array([1.        , 1.33333333, 1.66666667, 2.        , 2.33333333,\n",
       "       2.66666667, 3.        , 3.33333333, 3.66666667, 4.        ])"
      ]
     },
     "execution_count": 15,
     "metadata": {},
     "output_type": "execute_result"
    }
   ],
   "source": [
    "ds=np.linspace(1,4,10)\n",
    "ds"
   ]
  },
  {
   "cell_type": "code",
   "execution_count": 16,
   "id": "1b6fe4a1",
   "metadata": {},
   "outputs": [
    {
     "data": {
      "text/plain": [
       "array([[ 1,  3,  5],\n",
       "       [ 7,  9, 11]])"
      ]
     },
     "execution_count": 16,
     "metadata": {},
     "output_type": "execute_result"
    }
   ],
   "source": [
    "newarr=odr.reshape(2,3)\n",
    "newarr"
   ]
  },
  {
   "cell_type": "code",
   "execution_count": 17,
   "id": "3b9c8ec7",
   "metadata": {
    "scrolled": true
   },
   "outputs": [
    {
     "data": {
      "text/plain": [
       "array([[[ 1,  3,  5],\n",
       "        [ 7,  9, 11]]])"
      ]
     },
     "execution_count": 17,
     "metadata": {},
     "output_type": "execute_result"
    }
   ],
   "source": [
    "newar=odr.reshape(1,2,3)\n",
    "newar"
   ]
  },
  {
   "cell_type": "code",
   "execution_count": 18,
   "id": "b49a09d3",
   "metadata": {},
   "outputs": [
    {
     "data": {
      "text/plain": [
       "array([[ 1,  2,  3,  4,  5,  6],\n",
       "       [ 7,  8,  9, 10, 11, 12]])"
      ]
     },
     "execution_count": 18,
     "metadata": {},
     "output_type": "execute_result"
    }
   ],
   "source": [
    "ar=np.arange(1,13).reshape(2,6)\n",
    "ar"
   ]
  },
  {
   "cell_type": "code",
   "execution_count": 19,
   "id": "ef6171f6",
   "metadata": {
    "scrolled": true
   },
   "outputs": [
    {
     "data": {
      "text/plain": [
       "array([ 1,  2,  3,  4,  5,  6,  7,  8,  9, 10, 11, 12])"
      ]
     },
     "execution_count": 19,
     "metadata": {},
     "output_type": "execute_result"
    }
   ],
   "source": [
    "# 2d array ->  1 D array \n",
    "ar.ravel()"
   ]
  },
  {
   "cell_type": "code",
   "execution_count": 20,
   "id": "c3e51fa8",
   "metadata": {},
   "outputs": [
    {
     "data": {
      "text/plain": [
       "array([[ 1,  7],\n",
       "       [ 3,  9],\n",
       "       [ 5, 11]])"
      ]
     },
     "execution_count": 20,
     "metadata": {},
     "output_type": "execute_result"
    }
   ],
   "source": [
    "# transpose function \n",
    "T=ar.transpose()\n",
    "T\n",
    "newarr.T\n"
   ]
  },
  {
   "cell_type": "markdown",
   "id": "a10aaecf",
   "metadata": {},
   "source": [
    "# Mathematic operation using numpy"
   ]
  },
  {
   "cell_type": "code",
   "execution_count": 21,
   "id": "eeb89534",
   "metadata": {
    "scrolled": false
   },
   "outputs": [
    {
     "name": "stdout",
     "output_type": "stream",
     "text": [
      "[[1 2 3]\n",
      " [4 5 6]\n",
      " [7 8 9]]\n"
     ]
    },
    {
     "data": {
      "text/plain": [
       "array([[10, 11, 12],\n",
       "       [13, 14, 15],\n",
       "       [16, 17, 18]])"
      ]
     },
     "execution_count": 21,
     "metadata": {},
     "output_type": "execute_result"
    }
   ],
   "source": [
    "a1=np.arange(1,10).reshape(3,3)\n",
    "a2=np.arange(10,19).reshape(3,3)\n",
    "print(a1)\n",
    "\n",
    "a2"
   ]
  },
  {
   "cell_type": "code",
   "execution_count": 22,
   "id": "ada92634",
   "metadata": {
    "scrolled": true
   },
   "outputs": [
    {
     "data": {
      "text/plain": [
       "array([[11, 13, 15],\n",
       "       [17, 19, 21],\n",
       "       [23, 25, 27]])"
      ]
     },
     "execution_count": 22,
     "metadata": {},
     "output_type": "execute_result"
    }
   ],
   "source": [
    "a1+a2"
   ]
  },
  {
   "cell_type": "code",
   "execution_count": 23,
   "id": "6668e2ba",
   "metadata": {
    "scrolled": true
   },
   "outputs": [
    {
     "data": {
      "text/plain": [
       "array([[11, 13, 15],\n",
       "       [17, 19, 21],\n",
       "       [23, 25, 27]])"
      ]
     },
     "execution_count": 23,
     "metadata": {},
     "output_type": "execute_result"
    }
   ],
   "source": [
    "np.add(a1,a2)"
   ]
  },
  {
   "cell_type": "code",
   "execution_count": 24,
   "id": "b8d36794",
   "metadata": {},
   "outputs": [
    {
     "data": {
      "text/plain": [
       "array([[-9, -9, -9],\n",
       "       [-9, -9, -9],\n",
       "       [-9, -9, -9]])"
      ]
     },
     "execution_count": 24,
     "metadata": {},
     "output_type": "execute_result"
    }
   ],
   "source": [
    "np.subtract(a1,a2)"
   ]
  },
  {
   "cell_type": "code",
   "execution_count": 25,
   "id": "836ddaf9",
   "metadata": {},
   "outputs": [
    {
     "data": {
      "text/plain": [
       "array([[0.1       , 0.18181818, 0.25      ],\n",
       "       [0.30769231, 0.35714286, 0.4       ],\n",
       "       [0.4375    , 0.47058824, 0.5       ]])"
      ]
     },
     "execution_count": 25,
     "metadata": {},
     "output_type": "execute_result"
    }
   ],
   "source": [
    "a1/a2"
   ]
  },
  {
   "cell_type": "code",
   "execution_count": 26,
   "id": "adb2db70",
   "metadata": {
    "scrolled": true
   },
   "outputs": [
    {
     "data": {
      "text/plain": [
       "array([[10.        ,  5.5       ,  4.        ],\n",
       "       [ 3.25      ,  2.8       ,  2.5       ],\n",
       "       [ 2.28571429,  2.125     ,  2.        ]])"
      ]
     },
     "execution_count": 26,
     "metadata": {},
     "output_type": "execute_result"
    }
   ],
   "source": [
    "(np.divide(a2,a1))"
   ]
  },
  {
   "cell_type": "code",
   "execution_count": 27,
   "id": "9443f239",
   "metadata": {
    "scrolled": false
   },
   "outputs": [
    {
     "data": {
      "text/plain": [
       "array([[ 10,  22,  36],\n",
       "       [ 52,  70,  90],\n",
       "       [112, 136, 162]])"
      ]
     },
     "execution_count": 27,
     "metadata": {},
     "output_type": "execute_result"
    }
   ],
   "source": [
    "np.multiply(a1,a2)"
   ]
  },
  {
   "cell_type": "code",
   "execution_count": 28,
   "id": "1ac846f1",
   "metadata": {},
   "outputs": [
    {
     "data": {
      "text/plain": [
       "array([[ 84,  90,  96],\n",
       "       [201, 216, 231],\n",
       "       [318, 342, 366]])"
      ]
     },
     "execution_count": 28,
     "metadata": {},
     "output_type": "execute_result"
    }
   ],
   "source": [
    "a1@a2\n",
    "# matrix multiplication"
   ]
  },
  {
   "cell_type": "code",
   "execution_count": 29,
   "id": "cd21c0b3",
   "metadata": {},
   "outputs": [
    {
     "data": {
      "text/plain": [
       "array([[ 84,  90,  96],\n",
       "       [201, 216, 231],\n",
       "       [318, 342, 366]])"
      ]
     },
     "execution_count": 29,
     "metadata": {},
     "output_type": "execute_result"
    }
   ],
   "source": [
    "a1.dot(a2)"
   ]
  },
  {
   "cell_type": "code",
   "execution_count": 76,
   "id": "d72b5a76",
   "metadata": {},
   "outputs": [
    {
     "data": {
      "text/plain": [
       "array([[1, 2, 3],\n",
       "       [4, 5, 6],\n",
       "       [7, 8, 9]])"
      ]
     },
     "execution_count": 76,
     "metadata": {},
     "output_type": "execute_result"
    }
   ],
   "source": [
    "a1"
   ]
  },
  {
   "cell_type": "code",
   "execution_count": 75,
   "id": "32a9e8d2",
   "metadata": {
    "scrolled": true
   },
   "outputs": [
    {
     "data": {
      "text/plain": [
       "9"
      ]
     },
     "execution_count": 75,
     "metadata": {},
     "output_type": "execute_result"
    }
   ],
   "source": [
    "a1.max()"
   ]
  },
  {
   "cell_type": "code",
   "execution_count": 83,
   "id": "9a421828",
   "metadata": {
    "scrolled": true
   },
   "outputs": [
    {
     "data": {
      "text/plain": [
       "8"
      ]
     },
     "execution_count": 83,
     "metadata": {},
     "output_type": "execute_result"
    }
   ],
   "source": [
    "a1.argmax()"
   ]
  },
  {
   "cell_type": "code",
   "execution_count": 32,
   "id": "319ea267",
   "metadata": {
    "scrolled": true
   },
   "outputs": [
    {
     "data": {
      "text/plain": [
       "array([3, 6, 9])"
      ]
     },
     "execution_count": 32,
     "metadata": {},
     "output_type": "execute_result"
    }
   ],
   "source": [
    "a1.max(axis=1)"
   ]
  },
  {
   "cell_type": "code",
   "execution_count": 33,
   "id": "d5dbe77f",
   "metadata": {},
   "outputs": [
    {
     "data": {
      "text/plain": [
       "array([12, 15, 18])"
      ]
     },
     "execution_count": 33,
     "metadata": {},
     "output_type": "execute_result"
    }
   ],
   "source": [
    "np.sum(a1,axis=0)"
   ]
  },
  {
   "cell_type": "code",
   "execution_count": 34,
   "id": "c0a35d4d",
   "metadata": {},
   "outputs": [
    {
     "data": {
      "text/plain": [
       "array([[3.16227766, 3.31662479, 3.46410162],\n",
       "       [3.60555128, 3.74165739, 3.87298335],\n",
       "       [4.        , 4.12310563, 4.24264069]])"
      ]
     },
     "execution_count": 34,
     "metadata": {},
     "output_type": "execute_result"
    }
   ],
   "source": [
    "np.sqrt(a2)"
   ]
  },
  {
   "cell_type": "code",
   "execution_count": 35,
   "id": "93b80584",
   "metadata": {
    "scrolled": true
   },
   "outputs": [
    {
     "data": {
      "text/plain": [
       "2.581988897471611"
      ]
     },
     "execution_count": 35,
     "metadata": {},
     "output_type": "execute_result"
    }
   ],
   "source": [
    "np.std(a2)"
   ]
  },
  {
   "cell_type": "code",
   "execution_count": 36,
   "id": "7cae83a5",
   "metadata": {
    "scrolled": true
   },
   "outputs": [
    {
     "data": {
      "text/plain": [
       "array([[2.71828183e+00, 7.38905610e+00, 2.00855369e+01],\n",
       "       [5.45981500e+01, 1.48413159e+02, 4.03428793e+02],\n",
       "       [1.09663316e+03, 2.98095799e+03, 8.10308393e+03]])"
      ]
     },
     "execution_count": 36,
     "metadata": {},
     "output_type": "execute_result"
    }
   ],
   "source": [
    "np.exp(a1)"
   ]
  },
  {
   "cell_type": "code",
   "execution_count": 37,
   "id": "4481f1b0",
   "metadata": {
    "scrolled": true
   },
   "outputs": [
    {
     "data": {
      "text/plain": [
       "array([[ 1,  4,  9],\n",
       "       [16, 25, 36],\n",
       "       [49, 64, 81]], dtype=int32)"
      ]
     },
     "execution_count": 37,
     "metadata": {},
     "output_type": "execute_result"
    }
   ],
   "source": [
    "np.power(a1,2)"
   ]
  },
  {
   "cell_type": "markdown",
   "id": "2d46d878",
   "metadata": {},
   "source": [
    "# python Numpy Array slicing "
   ]
  },
  {
   "cell_type": "code",
   "execution_count": 38,
   "id": "5db27e0a",
   "metadata": {},
   "outputs": [],
   "source": [
    "ar1=np.arange(1,101).reshape(10,10)\n",
    "ar2=np.arange(101,201).reshape(10,10)"
   ]
  },
  {
   "cell_type": "code",
   "execution_count": 39,
   "id": "0b6b4aa1",
   "metadata": {},
   "outputs": [
    {
     "data": {
      "text/plain": [
       "array([[101, 102, 103, 104, 105, 106, 107, 108, 109, 110],\n",
       "       [111, 112, 113, 114, 115, 116, 117, 118, 119, 120],\n",
       "       [121, 122, 123, 124, 125, 126, 127, 128, 129, 130],\n",
       "       [131, 132, 133, 134, 135, 136, 137, 138, 139, 140],\n",
       "       [141, 142, 143, 144, 145, 146, 147, 148, 149, 150],\n",
       "       [151, 152, 153, 154, 155, 156, 157, 158, 159, 160],\n",
       "       [161, 162, 163, 164, 165, 166, 167, 168, 169, 170],\n",
       "       [171, 172, 173, 174, 175, 176, 177, 178, 179, 180],\n",
       "       [181, 182, 183, 184, 185, 186, 187, 188, 189, 190],\n",
       "       [191, 192, 193, 194, 195, 196, 197, 198, 199, 200]])"
      ]
     },
     "execution_count": 39,
     "metadata": {},
     "output_type": "execute_result"
    }
   ],
   "source": [
    "ar2"
   ]
  },
  {
   "cell_type": "code",
   "execution_count": 40,
   "id": "27910b6a",
   "metadata": {},
   "outputs": [
    {
     "data": {
      "text/plain": [
       "array([191, 192, 193, 194, 195, 196, 197, 198, 199, 200])"
      ]
     },
     "execution_count": 40,
     "metadata": {},
     "output_type": "execute_result"
    }
   ],
   "source": [
    "np.max(ar2,axis=0)"
   ]
  },
  {
   "cell_type": "code",
   "execution_count": 41,
   "id": "9ff92a34",
   "metadata": {
    "scrolled": false
   },
   "outputs": [
    {
     "data": {
      "text/plain": [
       "array([105.5, 115.5, 125.5, 135.5, 145.5, 155.5, 165.5, 175.5, 185.5,\n",
       "       195.5])"
      ]
     },
     "execution_count": 41,
     "metadata": {},
     "output_type": "execute_result"
    }
   ],
   "source": [
    "np.average(ar2,axis=1)"
   ]
  },
  {
   "cell_type": "code",
   "execution_count": 84,
   "id": "2cf677f6",
   "metadata": {
    "scrolled": false
   },
   "outputs": [
    {
     "data": {
      "text/plain": [
       "array([23., 24., 25., 26.])"
      ]
     },
     "execution_count": 84,
     "metadata": {},
     "output_type": "execute_result"
    }
   ],
   "source": [
    "np.mean(ar2,axis=0)"
   ]
  },
  {
   "cell_type": "code",
   "execution_count": 86,
   "id": "2e6152f0",
   "metadata": {
    "scrolled": false
   },
   "outputs": [
    {
     "data": {
      "text/plain": [
       "array([18.5, 22.5, 26.5, 30.5])"
      ]
     },
     "execution_count": 86,
     "metadata": {},
     "output_type": "execute_result"
    }
   ],
   "source": [
    "np.median(ar2,axis=1)"
   ]
  },
  {
   "cell_type": "code",
   "execution_count": 44,
   "id": "652e60e0",
   "metadata": {},
   "outputs": [
    {
     "data": {
      "text/plain": [
       "array([ 1,  2,  3,  4,  5,  6,  7,  8,  9, 10])"
      ]
     },
     "execution_count": 44,
     "metadata": {},
     "output_type": "execute_result"
    }
   ],
   "source": [
    "ar1[0]"
   ]
  },
  {
   "cell_type": "code",
   "execution_count": 45,
   "id": "d0e501cb",
   "metadata": {
    "scrolled": true
   },
   "outputs": [
    {
     "data": {
      "text/plain": [
       "array([ 1, 11, 21, 31, 41, 51, 61, 71, 81, 91])"
      ]
     },
     "execution_count": 45,
     "metadata": {},
     "output_type": "execute_result"
    }
   ],
   "source": [
    "ar1[:,0]"
   ]
  },
  {
   "cell_type": "code",
   "execution_count": 46,
   "id": "1c09a4ba",
   "metadata": {
    "scrolled": true
   },
   "outputs": [
    {
     "data": {
      "text/plain": [
       "array([[ 1],\n",
       "       [11],\n",
       "       [21],\n",
       "       [31],\n",
       "       [41],\n",
       "       [51],\n",
       "       [61],\n",
       "       [71],\n",
       "       [81],\n",
       "       [91]])"
      ]
     },
     "execution_count": 46,
     "metadata": {},
     "output_type": "execute_result"
    }
   ],
   "source": [
    "ar1[:,0:1]"
   ]
  },
  {
   "cell_type": "code",
   "execution_count": 47,
   "id": "157bdaff",
   "metadata": {
    "scrolled": true
   },
   "outputs": [
    {
     "data": {
      "text/plain": [
       "2"
      ]
     },
     "execution_count": 47,
     "metadata": {},
     "output_type": "execute_result"
    }
   ],
   "source": [
    "ar1[:,0:1].ndim"
   ]
  },
  {
   "cell_type": "code",
   "execution_count": 48,
   "id": "cc09b6b4",
   "metadata": {},
   "outputs": [
    {
     "data": {
      "text/plain": [
       "array([[  1,   2,   3,   4,   5,   6,   7,   8,   9,  10],\n",
       "       [ 11,  12,  13,  14,  15,  16,  17,  18,  19,  20],\n",
       "       [ 21,  22,  23,  24,  25,  26,  27,  28,  29,  30],\n",
       "       [ 31,  32,  33,  34,  35,  36,  37,  38,  39,  40],\n",
       "       [ 41,  42,  43,  44,  45,  46,  47,  48,  49,  50],\n",
       "       [ 51,  52,  53,  54,  55,  56,  57,  58,  59,  60],\n",
       "       [ 61,  62,  63,  64,  65,  66,  67,  68,  69,  70],\n",
       "       [ 71,  72,  73,  74,  75,  76,  77,  78,  79,  80],\n",
       "       [ 81,  82,  83,  84,  85,  86,  87,  88,  89,  90],\n",
       "       [ 91,  92,  93,  94,  95,  96,  97,  98,  99, 100]])"
      ]
     },
     "execution_count": 48,
     "metadata": {},
     "output_type": "execute_result"
    }
   ],
   "source": [
    "ar1"
   ]
  },
  {
   "cell_type": "code",
   "execution_count": 49,
   "id": "35d40896",
   "metadata": {
    "scrolled": true
   },
   "outputs": [
    {
     "data": {
      "text/plain": [
       "array([[12, 13, 14],\n",
       "       [22, 23, 24],\n",
       "       [32, 33, 34]])"
      ]
     },
     "execution_count": 49,
     "metadata": {},
     "output_type": "execute_result"
    }
   ],
   "source": [
    "ar1[1:4,1:4]"
   ]
  },
  {
   "cell_type": "code",
   "execution_count": 50,
   "id": "65e545c5",
   "metadata": {},
   "outputs": [
    {
     "data": {
      "text/plain": [
       "array([[ 1,  2,  3],\n",
       "       [11, 12, 13],\n",
       "       [21, 22, 23]])"
      ]
     },
     "execution_count": 50,
     "metadata": {},
     "output_type": "execute_result"
    }
   ],
   "source": [
    "ar1[0:3,0:3]"
   ]
  },
  {
   "cell_type": "code",
   "execution_count": 51,
   "id": "c3a8f3b0",
   "metadata": {},
   "outputs": [
    {
     "data": {
      "text/plain": [
       "array([[ 1],\n",
       "       [11],\n",
       "       [21],\n",
       "       [31],\n",
       "       [41],\n",
       "       [51],\n",
       "       [61],\n",
       "       [71],\n",
       "       [81],\n",
       "       [91]])"
      ]
     },
     "execution_count": 51,
     "metadata": {},
     "output_type": "execute_result"
    }
   ],
   "source": [
    "ar1[0:,0:1]"
   ]
  },
  {
   "cell_type": "code",
   "execution_count": 52,
   "id": "a0e32b94",
   "metadata": {},
   "outputs": [
    {
     "data": {
      "text/plain": [
       "array([[  1,   2,   3,   4,   5,   6,   7,   8,   9,  10],\n",
       "       [ 11,  12,  13,  14,  15,  16,  17,  18,  19,  20],\n",
       "       [ 21,  22,  23,  24,  25,  26,  27,  28,  29,  30],\n",
       "       [ 31,  32,  33,  34,  35,  36,  37,  38,  39,  40],\n",
       "       [ 41,  42,  43,  44,  45,  46,  47,  48,  49,  50],\n",
       "       [ 51,  52,  53,  54,  55,  56,  57,  58,  59,  60],\n",
       "       [ 61,  62,  63,  64,  65,  66,  67,  68,  69,  70],\n",
       "       [ 71,  72,  73,  74,  75,  76,  77,  78,  79,  80],\n",
       "       [ 81,  82,  83,  84,  85,  86,  87,  88,  89,  90],\n",
       "       [ 91,  92,  93,  94,  95,  96,  97,  98,  99, 100]])"
      ]
     },
     "execution_count": 52,
     "metadata": {},
     "output_type": "execute_result"
    }
   ],
   "source": [
    "ar1"
   ]
  },
  {
   "cell_type": "code",
   "execution_count": 53,
   "id": "8ade3d63",
   "metadata": {},
   "outputs": [
    {
     "data": {
      "text/plain": [
       "array([[ 2,  3],\n",
       "       [12, 13],\n",
       "       [22, 23],\n",
       "       [32, 33],\n",
       "       [42, 43],\n",
       "       [52, 53],\n",
       "       [62, 63],\n",
       "       [72, 73],\n",
       "       [82, 83],\n",
       "       [92, 93]])"
      ]
     },
     "execution_count": 53,
     "metadata": {},
     "output_type": "execute_result"
    }
   ],
   "source": [
    "ar1[:,1:3]"
   ]
  },
  {
   "cell_type": "code",
   "execution_count": 54,
   "id": "75915a1d",
   "metadata": {},
   "outputs": [
    {
     "data": {
      "text/plain": [
       "array([[ 9],\n",
       "       [19],\n",
       "       [29],\n",
       "       [39],\n",
       "       [49],\n",
       "       [59],\n",
       "       [69],\n",
       "       [79],\n",
       "       [89],\n",
       "       [99]])"
      ]
     },
     "execution_count": 54,
     "metadata": {},
     "output_type": "execute_result"
    }
   ],
   "source": [
    "ar1[:,8:9]"
   ]
  },
  {
   "cell_type": "code",
   "execution_count": 55,
   "id": "188fd5a0",
   "metadata": {
    "scrolled": true
   },
   "outputs": [
    {
     "data": {
      "text/plain": [
       "54.0"
      ]
     },
     "execution_count": 55,
     "metadata": {},
     "output_type": "execute_result"
    }
   ],
   "source": [
    "np.average(ar1[:,8:9])"
   ]
  },
  {
   "cell_type": "code",
   "execution_count": 92,
   "id": "f14356d1",
   "metadata": {},
   "outputs": [
    {
     "data": {
      "text/plain": [
       "array([[ 1,  2,  3,  4],\n",
       "       [ 5,  6,  7,  8],\n",
       "       [ 9, 10, 11, 12],\n",
       "       [13, 14, 15, 16]])"
      ]
     },
     "execution_count": 92,
     "metadata": {},
     "output_type": "execute_result"
    }
   ],
   "source": [
    "ar1"
   ]
  },
  {
   "cell_type": "code",
   "execution_count": 102,
   "id": "a2db8322",
   "metadata": {},
   "outputs": [
    {
     "data": {
      "text/plain": [
       "array([[ 2,  3,  4],\n",
       "       [ 6,  7,  8],\n",
       "       [10, 11, 12]])"
      ]
     },
     "execution_count": 102,
     "metadata": {},
     "output_type": "execute_result"
    }
   ],
   "source": [
    "ar1[0:3,1:]"
   ]
  },
  {
   "cell_type": "code",
   "execution_count": 58,
   "id": "0aef4644",
   "metadata": {},
   "outputs": [
    {
     "data": {
      "text/plain": [
       "array([[ 5,  6],\n",
       "       [15, 16],\n",
       "       [25, 26],\n",
       "       [35, 36],\n",
       "       [45, 46],\n",
       "       [55, 56],\n",
       "       [65, 66],\n",
       "       [75, 76],\n",
       "       [85, 86],\n",
       "       [95, 96]])"
      ]
     },
     "execution_count": 58,
     "metadata": {},
     "output_type": "execute_result"
    }
   ],
   "source": [
    "p=ar1[:,4:6]\n",
    "p"
   ]
  },
  {
   "cell_type": "code",
   "execution_count": 59,
   "id": "5ef1e933",
   "metadata": {},
   "outputs": [
    {
     "data": {
      "text/plain": [
       "array([[ 5,  6, 15, 16],\n",
       "       [25, 26, 35, 36],\n",
       "       [45, 46, 55, 56],\n",
       "       [65, 66, 75, 76],\n",
       "       [85, 86, 95, 96]])"
      ]
     },
     "execution_count": 59,
     "metadata": {},
     "output_type": "execute_result"
    }
   ],
   "source": [
    "p.reshape(5,4)"
   ]
  },
  {
   "cell_type": "code",
   "execution_count": 60,
   "id": "6cc928b5",
   "metadata": {
    "scrolled": false
   },
   "outputs": [
    {
     "data": {
      "text/plain": [
       "array([[  1,   2,   3,   4,   5,   6,   7,   8,   9,  10],\n",
       "       [ 11,  12,  13,  14,  15,  16,  17,  18,  19,  20],\n",
       "       [ 21,  22,  23,  24,  25,  26,  27,  28,  29,  30],\n",
       "       [ 31,  32,  33,  34,  35,  36,  37,  38,  39,  40],\n",
       "       [ 41,  42,  43,  44,  45,  46,  47,  48,  49,  50],\n",
       "       [ 51,  52,  53,  54,  55,  56,  57,  58,  59,  60],\n",
       "       [ 61,  62,  63,  64,  65,  66,  67,  68,  69,  70],\n",
       "       [ 71,  72,  73,  74,  75,  76,  77,  78,  79,  80],\n",
       "       [ 81,  82,  83,  84,  85,  86,  87,  88,  89,  90],\n",
       "       [ 91,  92,  93,  94,  95,  96,  97,  98,  99, 100]])"
      ]
     },
     "execution_count": 60,
     "metadata": {},
     "output_type": "execute_result"
    }
   ],
   "source": [
    "ar1"
   ]
  },
  {
   "cell_type": "code",
   "execution_count": 61,
   "id": "bad99de0",
   "metadata": {},
   "outputs": [
    {
     "data": {
      "text/plain": [
       "array([[12, 13, 14],\n",
       "       [22, 23, 24]])"
      ]
     },
     "execution_count": 61,
     "metadata": {},
     "output_type": "execute_result"
    }
   ],
   "source": [
    "ar1[1:3,1:4]"
   ]
  },
  {
   "cell_type": "code",
   "execution_count": 62,
   "id": "6aa02ab7",
   "metadata": {},
   "outputs": [
    {
     "data": {
      "text/plain": [
       "4"
      ]
     },
     "execution_count": 62,
     "metadata": {},
     "output_type": "execute_result"
    }
   ],
   "source": [
    "ar1.itemsize\n",
    "\n"
   ]
  },
  {
   "cell_type": "code",
   "execution_count": 63,
   "id": "b88a51d8",
   "metadata": {
    "scrolled": true
   },
   "outputs": [
    {
     "data": {
      "text/plain": [
       "dtype('int32')"
      ]
     },
     "execution_count": 63,
     "metadata": {},
     "output_type": "execute_result"
    }
   ],
   "source": [
    "ar1.dtype"
   ]
  },
  {
   "cell_type": "markdown",
   "id": "9f623a8e",
   "metadata": {},
   "source": [
    "# Python Numpy Array conctination and split"
   ]
  },
  {
   "cell_type": "code",
   "execution_count": 64,
   "id": "e53a0754",
   "metadata": {},
   "outputs": [],
   "source": [
    "ar1=np.arange(1,17).reshape(4,4)\n",
    "ar2=np.arange(17,33).reshape(4,4)"
   ]
  },
  {
   "cell_type": "code",
   "execution_count": 65,
   "id": "15bd0a1d",
   "metadata": {},
   "outputs": [],
   "source": [
    "l1=[7,8,9,4]\n",
    "l2=[2,7,8,9]"
   ]
  },
  {
   "cell_type": "code",
   "execution_count": 66,
   "id": "3c4ff8c5",
   "metadata": {},
   "outputs": [
    {
     "data": {
      "text/plain": [
       "[7, 8, 9, 4, 2, 7, 8, 9]"
      ]
     },
     "execution_count": 66,
     "metadata": {},
     "output_type": "execute_result"
    }
   ],
   "source": [
    "l1+l2"
   ]
  },
  {
   "cell_type": "code",
   "execution_count": 67,
   "id": "6bb50e76",
   "metadata": {},
   "outputs": [
    {
     "data": {
      "text/plain": [
       "array([[ 1,  2,  3,  4],\n",
       "       [ 5,  6,  7,  8],\n",
       "       [ 9, 10, 11, 12],\n",
       "       [13, 14, 15, 16],\n",
       "       [17, 18, 19, 20],\n",
       "       [21, 22, 23, 24],\n",
       "       [25, 26, 27, 28],\n",
       "       [29, 30, 31, 32]])"
      ]
     },
     "execution_count": 67,
     "metadata": {},
     "output_type": "execute_result"
    }
   ],
   "source": [
    "np.concatenate((ar1,ar2))"
   ]
  },
  {
   "cell_type": "code",
   "execution_count": 68,
   "id": "e4693686",
   "metadata": {
    "scrolled": false
   },
   "outputs": [
    {
     "data": {
      "text/plain": [
       "array([[ 1,  2,  3,  4, 17, 18, 19, 20],\n",
       "       [ 5,  6,  7,  8, 21, 22, 23, 24],\n",
       "       [ 9, 10, 11, 12, 25, 26, 27, 28],\n",
       "       [13, 14, 15, 16, 29, 30, 31, 32]])"
      ]
     },
     "execution_count": 68,
     "metadata": {},
     "output_type": "execute_result"
    }
   ],
   "source": [
    "np.concatenate((ar1,ar2),axis=1)"
   ]
  },
  {
   "cell_type": "markdown",
   "id": "4503e243",
   "metadata": {},
   "source": [
    "## concatination"
   ]
  },
  {
   "cell_type": "code",
   "execution_count": 69,
   "id": "5eed3707",
   "metadata": {
    "scrolled": true
   },
   "outputs": [
    {
     "data": {
      "text/plain": [
       "array([[ 1,  2,  3,  4],\n",
       "       [ 5,  6,  7,  8],\n",
       "       [ 9, 10, 11, 12],\n",
       "       [13, 14, 15, 16],\n",
       "       [17, 18, 19, 20],\n",
       "       [21, 22, 23, 24],\n",
       "       [25, 26, 27, 28],\n",
       "       [29, 30, 31, 32]])"
      ]
     },
     "execution_count": 69,
     "metadata": {},
     "output_type": "execute_result"
    }
   ],
   "source": [
    "np.vstack((ar1,ar2))"
   ]
  },
  {
   "cell_type": "code",
   "execution_count": 70,
   "id": "f95bb64b",
   "metadata": {
    "scrolled": true
   },
   "outputs": [
    {
     "data": {
      "text/plain": [
       "array([[ 1,  2,  3,  4, 17, 18, 19, 20],\n",
       "       [ 5,  6,  7,  8, 21, 22, 23, 24],\n",
       "       [ 9, 10, 11, 12, 25, 26, 27, 28],\n",
       "       [13, 14, 15, 16, 29, 30, 31, 32]])"
      ]
     },
     "execution_count": 70,
     "metadata": {},
     "output_type": "execute_result"
    }
   ],
   "source": [
    "np.hstack((ar1,ar2))"
   ]
  },
  {
   "cell_type": "code",
   "execution_count": 71,
   "id": "eca60db6",
   "metadata": {
    "scrolled": true
   },
   "outputs": [
    {
     "data": {
      "text/plain": [
       "[array([[1, 2, 3, 4],\n",
       "        [5, 6, 7, 8]]),\n",
       " array([[ 9, 10, 11, 12],\n",
       "        [13, 14, 15, 16]])]"
      ]
     },
     "execution_count": 71,
     "metadata": {},
     "output_type": "execute_result"
    }
   ],
   "source": [
    "np.split(ar1,2)"
   ]
  },
  {
   "cell_type": "code",
   "execution_count": 72,
   "id": "ea83b184",
   "metadata": {
    "scrolled": true
   },
   "outputs": [
    {
     "data": {
      "text/plain": [
       "[array([[1, 2, 3, 4]]),\n",
       " array([[5, 6, 7, 8]]),\n",
       " array([[ 9, 10, 11, 12]]),\n",
       " array([[13, 14, 15, 16]])]"
      ]
     },
     "execution_count": 72,
     "metadata": {},
     "output_type": "execute_result"
    }
   ],
   "source": [
    "np.split(ar1,4,axis=0)"
   ]
  },
  {
   "cell_type": "code",
   "execution_count": 73,
   "id": "49cfa78a",
   "metadata": {},
   "outputs": [],
   "source": [
    "d1=np.array([4,5,6,7,9])"
   ]
  },
  {
   "cell_type": "code",
   "execution_count": 74,
   "id": "46d3805d",
   "metadata": {},
   "outputs": [
    {
     "data": {
      "text/plain": [
       "[array([4]), array([5, 6]), array([7, 9])]"
      ]
     },
     "execution_count": 74,
     "metadata": {},
     "output_type": "execute_result"
    }
   ],
   "source": [
    "np.split(d1,[1,3])"
   ]
  },
  {
   "cell_type": "markdown",
   "id": "e47cdfc1",
   "metadata": {},
   "source": [
    "# new day new starting "
   ]
  },
  {
   "cell_type": "code",
   "execution_count": 103,
   "id": "d3d743cf",
   "metadata": {},
   "outputs": [],
   "source": [
    "import numpy as np\n",
    "import matplotlib.pyplot as plt"
   ]
  },
  {
   "cell_type": "code",
   "execution_count": 106,
   "id": "af24e482",
   "metadata": {
    "scrolled": true
   },
   "outputs": [
    {
     "data": {
      "text/plain": [
       "0.8939966636005579"
      ]
     },
     "execution_count": 106,
     "metadata": {},
     "output_type": "execute_result"
    }
   ],
   "source": [
    "np.sin(90)"
   ]
  },
  {
   "cell_type": "code",
   "execution_count": 107,
   "id": "3ef4b8dd",
   "metadata": {
    "scrolled": true
   },
   "outputs": [
    {
     "data": {
      "text/plain": [
       "-0.8011526357338304"
      ]
     },
     "execution_count": 107,
     "metadata": {},
     "output_type": "execute_result"
    }
   ],
   "source": [
    "np.sin(180)"
   ]
  },
  {
   "cell_type": "code",
   "execution_count": 124,
   "id": "87421160",
   "metadata": {
    "scrolled": true
   },
   "outputs": [
    {
     "name": "stdout",
     "output_type": "stream",
     "text": [
      "[-6.00000000e+00 -5.90000000e+00 -5.80000000e+00 -5.70000000e+00\n",
      " -5.60000000e+00 -5.50000000e+00 -5.40000000e+00 -5.30000000e+00\n",
      " -5.20000000e+00 -5.10000000e+00 -5.00000000e+00 -4.90000000e+00\n",
      " -4.80000000e+00 -4.70000000e+00 -4.60000000e+00 -4.50000000e+00\n",
      " -4.40000000e+00 -4.30000000e+00 -4.20000000e+00 -4.10000000e+00\n",
      " -4.00000000e+00 -3.90000000e+00 -3.80000000e+00 -3.70000000e+00\n",
      " -3.60000000e+00 -3.50000000e+00 -3.40000000e+00 -3.30000000e+00\n",
      " -3.20000000e+00 -3.10000000e+00 -3.00000000e+00 -2.90000000e+00\n",
      " -2.80000000e+00 -2.70000000e+00 -2.60000000e+00 -2.50000000e+00\n",
      " -2.40000000e+00 -2.30000000e+00 -2.20000000e+00 -2.10000000e+00\n",
      " -2.00000000e+00 -1.90000000e+00 -1.80000000e+00 -1.70000000e+00\n",
      " -1.60000000e+00 -1.50000000e+00 -1.40000000e+00 -1.30000000e+00\n",
      " -1.20000000e+00 -1.10000000e+00 -1.00000000e+00 -9.00000000e-01\n",
      " -8.00000000e-01 -7.00000000e-01 -6.00000000e-01 -5.00000000e-01\n",
      " -4.00000000e-01 -3.00000000e-01 -2.00000000e-01 -1.00000000e-01\n",
      " -2.13162821e-14  1.00000000e-01  2.00000000e-01  3.00000000e-01\n",
      "  4.00000000e-01  5.00000000e-01  6.00000000e-01  7.00000000e-01\n",
      "  8.00000000e-01  9.00000000e-01  1.00000000e+00  1.10000000e+00\n",
      "  1.20000000e+00  1.30000000e+00  1.40000000e+00  1.50000000e+00\n",
      "  1.60000000e+00  1.70000000e+00  1.80000000e+00  1.90000000e+00\n",
      "  2.00000000e+00  2.10000000e+00  2.20000000e+00  2.30000000e+00\n",
      "  2.40000000e+00  2.50000000e+00  2.60000000e+00  2.70000000e+00\n",
      "  2.80000000e+00  2.90000000e+00  3.00000000e+00  3.10000000e+00\n",
      "  3.20000000e+00  3.30000000e+00  3.40000000e+00  3.50000000e+00\n",
      "  3.60000000e+00  3.70000000e+00  3.80000000e+00  3.90000000e+00\n",
      "  4.00000000e+00  4.10000000e+00  4.20000000e+00  4.30000000e+00\n",
      "  4.40000000e+00  4.50000000e+00  4.60000000e+00  4.70000000e+00\n",
      "  4.80000000e+00  4.90000000e+00  5.00000000e+00  5.10000000e+00\n",
      "  5.20000000e+00  5.30000000e+00  5.40000000e+00  5.50000000e+00\n",
      "  5.60000000e+00  5.70000000e+00  5.80000000e+00  5.90000000e+00\n",
      "  6.00000000e+00  6.10000000e+00  6.20000000e+00  6.30000000e+00\n",
      "  6.40000000e+00  6.50000000e+00  6.60000000e+00  6.70000000e+00\n",
      "  6.80000000e+00  6.90000000e+00  7.00000000e+00  7.10000000e+00\n",
      "  7.20000000e+00  7.30000000e+00  7.40000000e+00  7.50000000e+00\n",
      "  7.60000000e+00  7.70000000e+00  7.80000000e+00  7.90000000e+00\n",
      "  8.00000000e+00  8.10000000e+00  8.20000000e+00  8.30000000e+00\n",
      "  8.40000000e+00  8.50000000e+00  8.60000000e+00  8.70000000e+00\n",
      "  8.80000000e+00  8.90000000e+00  9.00000000e+00  9.10000000e+00\n",
      "  9.20000000e+00  9.30000000e+00  9.40000000e+00  9.50000000e+00\n",
      "  9.60000000e+00  9.70000000e+00  9.80000000e+00  9.90000000e+00\n",
      "  1.00000000e+01  1.01000000e+01  1.02000000e+01  1.03000000e+01\n",
      "  1.04000000e+01  1.05000000e+01  1.06000000e+01  1.07000000e+01\n",
      "  1.08000000e+01  1.09000000e+01  1.10000000e+01  1.11000000e+01\n",
      "  1.12000000e+01  1.13000000e+01  1.14000000e+01  1.15000000e+01\n",
      "  1.16000000e+01  1.17000000e+01  1.18000000e+01  1.19000000e+01\n",
      "  1.20000000e+01  1.21000000e+01  1.22000000e+01  1.23000000e+01\n",
      "  1.24000000e+01  1.25000000e+01  1.26000000e+01  1.27000000e+01\n",
      "  1.28000000e+01  1.29000000e+01  1.30000000e+01  1.31000000e+01\n",
      "  1.32000000e+01  1.33000000e+01  1.34000000e+01  1.35000000e+01\n",
      "  1.36000000e+01  1.37000000e+01  1.38000000e+01  1.39000000e+01\n",
      "  1.40000000e+01  1.41000000e+01  1.42000000e+01  1.43000000e+01\n",
      "  1.44000000e+01  1.45000000e+01  1.46000000e+01  1.47000000e+01\n",
      "  1.48000000e+01  1.49000000e+01  1.50000000e+01  1.51000000e+01\n",
      "  1.52000000e+01  1.53000000e+01  1.54000000e+01  1.55000000e+01\n",
      "  1.56000000e+01  1.57000000e+01  1.58000000e+01  1.59000000e+01\n",
      "  1.60000000e+01  1.61000000e+01  1.62000000e+01  1.63000000e+01\n",
      "  1.64000000e+01  1.65000000e+01  1.66000000e+01  1.67000000e+01\n",
      "  1.68000000e+01  1.69000000e+01  1.70000000e+01  1.71000000e+01\n",
      "  1.72000000e+01  1.73000000e+01  1.74000000e+01  1.75000000e+01\n",
      "  1.76000000e+01  1.77000000e+01  1.78000000e+01  1.79000000e+01\n",
      "  1.80000000e+01  1.81000000e+01  1.82000000e+01  1.83000000e+01\n",
      "  1.84000000e+01  1.85000000e+01  1.86000000e+01  1.87000000e+01\n",
      "  1.88000000e+01]\n"
     ]
    }
   ],
   "source": [
    "x_sin =np.arange(-6,6*np.pi,0.1)\n",
    "print(x_sin)"
   ]
  },
  {
   "cell_type": "code",
   "execution_count": 125,
   "id": "bd9853b2",
   "metadata": {
    "scrolled": false
   },
   "outputs": [
    {
     "name": "stdout",
     "output_type": "stream",
     "text": [
      "[ 2.79415498e-01  3.73876665e-01  4.64602179e-01  5.50685543e-01\n",
      "  6.31266638e-01  7.05540326e-01  7.72764488e-01  8.32267442e-01\n",
      "  8.83454656e-01  9.25814682e-01  9.58924275e-01  9.82452613e-01\n",
      "  9.96164609e-01  9.99923258e-01  9.93691004e-01  9.77530118e-01\n",
      "  9.51602074e-01  9.16165937e-01  8.71575772e-01  8.18277111e-01\n",
      "  7.56802495e-01  6.87766159e-01  6.11857891e-01  5.29836141e-01\n",
      "  4.42520443e-01  3.50783228e-01  2.55541102e-01  1.57745694e-01\n",
      "  5.83741434e-02 -4.15806624e-02 -1.41120008e-01 -2.39249329e-01\n",
      " -3.34988150e-01 -4.27379880e-01 -5.15501372e-01 -5.98472144e-01\n",
      " -6.75463181e-01 -7.45705212e-01 -8.08496404e-01 -8.63209367e-01\n",
      " -9.09297427e-01 -9.46300088e-01 -9.73847631e-01 -9.91664810e-01\n",
      " -9.99573603e-01 -9.97494987e-01 -9.85449730e-01 -9.63558185e-01\n",
      " -9.32039086e-01 -8.91207360e-01 -8.41470985e-01 -7.83326910e-01\n",
      " -7.17356091e-01 -6.44217687e-01 -5.64642473e-01 -4.79425539e-01\n",
      " -3.89418342e-01 -2.95520207e-01 -1.98669331e-01 -9.98334166e-02\n",
      " -2.13162821e-14  9.98334166e-02  1.98669331e-01  2.95520207e-01\n",
      "  3.89418342e-01  4.79425539e-01  5.64642473e-01  6.44217687e-01\n",
      "  7.17356091e-01  7.83326910e-01  8.41470985e-01  8.91207360e-01\n",
      "  9.32039086e-01  9.63558185e-01  9.85449730e-01  9.97494987e-01\n",
      "  9.99573603e-01  9.91664810e-01  9.73847631e-01  9.46300088e-01\n",
      "  9.09297427e-01  8.63209367e-01  8.08496404e-01  7.45705212e-01\n",
      "  6.75463181e-01  5.98472144e-01  5.15501372e-01  4.27379880e-01\n",
      "  3.34988150e-01  2.39249329e-01  1.41120008e-01  4.15806624e-02\n",
      " -5.83741434e-02 -1.57745694e-01 -2.55541102e-01 -3.50783228e-01\n",
      " -4.42520443e-01 -5.29836141e-01 -6.11857891e-01 -6.87766159e-01\n",
      " -7.56802495e-01 -8.18277111e-01 -8.71575772e-01 -9.16165937e-01\n",
      " -9.51602074e-01 -9.77530118e-01 -9.93691004e-01 -9.99923258e-01\n",
      " -9.96164609e-01 -9.82452613e-01 -9.58924275e-01 -9.25814682e-01\n",
      " -8.83454656e-01 -8.32267442e-01 -7.72764488e-01 -7.05540326e-01\n",
      " -6.31266638e-01 -5.50685543e-01 -4.64602179e-01 -3.73876665e-01\n",
      " -2.79415498e-01 -1.82162504e-01 -8.30894028e-02  1.68139005e-02\n",
      "  1.16549205e-01  2.15119988e-01  3.11541364e-01  4.04849921e-01\n",
      "  4.94113351e-01  5.78439764e-01  6.56986599e-01  7.28969040e-01\n",
      "  7.93667864e-01  8.50436621e-01  8.98708096e-01  9.37999977e-01\n",
      "  9.67919672e-01  9.88168234e-01  9.98543345e-01  9.98941342e-01\n",
      "  9.89358247e-01  9.69889811e-01  9.40730557e-01  9.02171834e-01\n",
      "  8.54598908e-01  7.98487113e-01  7.34397098e-01  6.62969230e-01\n",
      "  5.84917193e-01  5.01020856e-01  4.12118485e-01  3.19098362e-01\n",
      "  2.22889914e-01  1.24454424e-01  2.47754255e-02 -7.51511205e-02\n",
      " -1.74326781e-01 -2.71760626e-01 -3.66479129e-01 -4.57535894e-01\n",
      " -5.44021111e-01 -6.25070649e-01 -6.99874688e-01 -7.67685810e-01\n",
      " -8.27826469e-01 -8.79695760e-01 -9.22775422e-01 -9.56635016e-01\n",
      " -9.80936230e-01 -9.95436253e-01 -9.99990207e-01 -9.94552588e-01\n",
      " -9.79177729e-01 -9.54019250e-01 -9.19328526e-01 -8.75452175e-01\n",
      " -8.22828595e-01 -7.61983584e-01 -6.93525085e-01 -6.18137112e-01\n",
      " -5.36572918e-01 -4.49647465e-01 -3.58229282e-01 -2.63231791e-01\n",
      " -1.65604175e-01 -6.63218974e-02  3.36230472e-02  1.33232041e-01\n",
      "  2.31509825e-01  3.27474439e-01  4.20167037e-01  5.08661464e-01\n",
      "  5.92073515e-01  6.69569762e-01  7.40375890e-01  8.03784427e-01\n",
      "  8.59161815e-01  9.05954742e-01  9.43695669e-01  9.72007501e-01\n",
      "  9.90607356e-01  9.99309389e-01  9.98026653e-01  9.86771964e-01\n",
      "  9.65657777e-01  9.34895056e-01  8.94791172e-01  8.45746831e-01\n",
      "  7.88252067e-01  7.22881350e-01  6.50287840e-01  5.71196870e-01\n",
      "  4.86398689e-01  3.96740573e-01  3.03118357e-01  2.06467482e-01\n",
      "  1.07753652e-01  7.96318379e-03 -9.19068502e-02 -1.90858581e-01\n",
      " -2.87903317e-01 -3.82071417e-01 -4.72421986e-01 -5.58052271e-01\n",
      " -6.38106682e-01 -7.11785342e-01 -7.78352079e-01 -8.37141778e-01\n",
      " -8.87567034e-01 -9.29124013e-01 -9.61397492e-01 -9.84065005e-01\n",
      " -9.96900066e-01 -9.99774431e-01 -9.92659380e-01 -9.75626005e-01\n",
      " -9.48844498e-01 -9.12582450e-01 -8.67202179e-01 -8.13157112e-01\n",
      " -7.50987247e-01 -6.81313766e-01 -6.04832822e-01 -5.22308590e-01\n",
      " -4.34565622e-01 -3.42480618e-01 -2.46973662e-01 -1.48999026e-01\n",
      " -4.95356409e-02]\n"
     ]
    }
   ],
   "source": [
    "y_sin =np.sin(x_sin)\n",
    "print(y_sin)\n"
   ]
  },
  {
   "cell_type": "code",
   "execution_count": 126,
   "id": "b7bb5b38",
   "metadata": {
    "scrolled": true
   },
   "outputs": [
    {
     "data": {
      "image/png": "[encoded data removed]",
      "text/plain": [
       "<Figure size 640x480 with 1 Axes>"
      ]
     },
     "metadata": {},
     "output_type": "display_data"
    }
   ],
   "source": [
    "plt.plot(x_sin,y_sin)\n",
    "plt.show()"
   ]
  },
  {
   "cell_type": "code",
   "execution_count": 133,
   "id": "41616041",
   "metadata": {},
   "outputs": [],
   "source": [
    "x_tan=np.arange(1,4,0.01)\n",
    "y_tan=np.tan(x_tan)"
   ]
  },
  {
   "cell_type": "code",
   "execution_count": 134,
   "id": "527aa989",
   "metadata": {
    "scrolled": true
   },
   "outputs": [
    {
     "data": {
      "image/png": "[encoded data removed]",
      "text/plain": [
       "<Figure size 640x480 with 1 Axes>"
      ]
     },
     "metadata": {},
     "output_type": "display_data"
    }
   ],
   "source": [
    "plt.plot(x_tan,y_tan)\n",
    "plt.show()"
   ]
  },
  {
   "cell_type": "code",
   "execution_count": 136,
   "id": "fcadcce1",
   "metadata": {
    "scrolled": true
   },
   "outputs": [
    {
     "data": {
      "image/png": "[encoded data removed]",
      "text/plain": [
       "<Figure size 640x480 with 1 Axes>"
      ]
     },
     "metadata": {},
     "output_type": "display_data"
    }
   ],
   "source": [
    "x_cos=np.arange(0,3*np.pi,0.01)\n",
    "y_cos=np.cos(x_cos)\n",
    "plt.plot(x_cos,y_cos)\n",
    "plt.show()"
   ]
  },
  {
   "cell_type": "markdown",
   "id": "5b0599d9",
   "metadata": {},
   "source": [
    "# python Numpy Random sampling with Numpy"
   ]
  },
  {
   "cell_type": "code",
   "execution_count": 138,
   "id": "5bd43a20",
   "metadata": {},
   "outputs": [],
   "source": [
    "import numpy as np \n",
    "import random as rn"
   ]
  },
  {
   "cell_type": "code",
   "execution_count": 140,
   "id": "571dce51",
   "metadata": {
    "scrolled": true
   },
   "outputs": [
    {
     "data": {
      "text/plain": [
       "array([0.09348261])"
      ]
     },
     "execution_count": 140,
     "metadata": {},
     "output_type": "execute_result"
    }
   ],
   "source": [
    "np.random.random(1)"
   ]
  },
  {
   "cell_type": "code",
   "execution_count": 145,
   "id": "7fd600b6",
   "metadata": {},
   "outputs": [
    {
     "data": {
      "text/plain": [
       "array([[0.13483397, 0.5539569 , 0.0935189 , 0.86181897, 0.65462177],\n",
       "       [0.03465098, 0.24349235, 0.78601334, 0.473012  , 0.69270018],\n",
       "       [0.65871148, 0.37623413, 0.24050005, 0.58442051, 0.5266418 ]])"
      ]
     },
     "execution_count": 145,
     "metadata": {},
     "output_type": "execute_result"
    }
   ],
   "source": [
    "np.random.random((3,5))"
   ]
  },
  {
   "cell_type": "code",
   "execution_count": 151,
   "id": "a89695a7",
   "metadata": {
    "scrolled": true
   },
   "outputs": [
    {
     "data": {
      "text/plain": [
       "array([[1, 2, 3, 2, 1],\n",
       "       [2, 1, 1, 1, 2],\n",
       "       [2, 1, 1, 3, 3]])"
      ]
     },
     "execution_count": 151,
     "metadata": {},
     "output_type": "execute_result"
    }
   ],
   "source": [
    "np.random.randint(1,4,(3,5))"
   ]
  },
  {
   "cell_type": "code",
   "execution_count": 154,
   "id": "d94d6bec",
   "metadata": {
    "scrolled": true
   },
   "outputs": [
    {
     "data": {
      "text/plain": [
       "array([[0.46603738, 0.9269152 , 0.79413481],\n",
       "       [0.994337  , 0.03185719, 0.63339581],\n",
       "       [0.23592988, 0.54371359, 0.69691507]])"
      ]
     },
     "execution_count": 154,
     "metadata": {},
     "output_type": "execute_result"
    }
   ],
   "source": [
    "np.random.random_sample((3,3))"
   ]
  },
  {
   "cell_type": "code",
   "execution_count": 157,
   "id": "b5ac224e",
   "metadata": {
    "scrolled": true
   },
   "outputs": [
    {
     "data": {
      "text/plain": [
       "array([[[2, 2, 1, 1],\n",
       "        [2, 1, 2, 2],\n",
       "        [1, 2, 2, 3],\n",
       "        [1, 2, 1, 3]],\n",
       "\n",
       "       [[1, 3, 1, 1],\n",
       "        [1, 3, 1, 3],\n",
       "        [3, 2, 1, 1],\n",
       "        [3, 2, 3, 2]]])"
      ]
     },
     "execution_count": 157,
     "metadata": {},
     "output_type": "execute_result"
    }
   ],
   "source": [
    "np.random.seed(10)\n",
    "np.random.randint(1,4,(2,4,4))"
   ]
  },
  {
   "cell_type": "code",
   "execution_count": 158,
   "id": "05459931",
   "metadata": {
    "scrolled": true
   },
   "outputs": [
    {
     "data": {
      "text/plain": [
       "array([0.13145815, 0.41366737, 0.77872881])"
      ]
     },
     "execution_count": 158,
     "metadata": {},
     "output_type": "execute_result"
    }
   ],
   "source": [
    "np.random.rand(3)"
   ]
  },
  {
   "cell_type": "code",
   "execution_count": 163,
   "id": "a4cdb3fb",
   "metadata": {
    "scrolled": false
   },
   "outputs": [
    {
     "data": {
      "text/plain": [
       "array([[0.64414354, 0.38074849, 0.66304791],\n",
       "       [0.16365073, 0.96260781, 0.34666184],\n",
       "       [0.99175099, 0.2350579 , 0.58569427]])"
      ]
     },
     "execution_count": 163,
     "metadata": {},
     "output_type": "execute_result"
    }
   ],
   "source": [
    "np.random.seed(30)\n",
    "np.random.rand(3,3)"
   ]
  },
  {
   "cell_type": "code",
   "execution_count": 158,
   "id": "57e595f9",
   "metadata": {
    "scrolled": true
   },
   "outputs": [
    {
     "data": {
      "text/plain": [
       "array([0.13145815, 0.41366737, 0.77872881])"
      ]
     },
     "execution_count": 158,
     "metadata": {},
     "output_type": "execute_result"
    }
   ],
   "source": [
    "np.random.rand(3)"
   ]
  },
  {
   "cell_type": "code",
   "execution_count": 175,
   "id": "2281aefe",
   "metadata": {
    "scrolled": true
   },
   "outputs": [],
   "source": [
    "x=np.arange(1,10)"
   ]
  },
  {
   "cell_type": "code",
   "execution_count": 212,
   "id": "8ba7bad3",
   "metadata": {
    "scrolled": false
   },
   "outputs": [
    {
     "name": "stdout",
     "output_type": "stream",
     "text": [
      "4\n",
      "7\n",
      "4\n",
      "7\n",
      "5\n",
      "3\n",
      "7\n",
      "3\n",
      "4\n",
      "1\n"
     ]
    }
   ],
   "source": [
    "np.random.choice(x)\n",
    "for i in range(10):\n",
    "    print(np.random.choice(x))"
   ]
  },
  {
   "cell_type": "code",
   "execution_count": 223,
   "id": "d9957124",
   "metadata": {
    "scrolled": true
   },
   "outputs": [
    {
     "data": {
      "text/plain": [
       "array([8, 6, 9, 2, 7, 3, 4, 1, 5])"
      ]
     },
     "execution_count": 223,
     "metadata": {},
     "output_type": "execute_result"
    }
   ],
   "source": [
    "np.random.permutation(x)"
   ]
  },
  {
   "cell_type": "markdown",
   "id": "ab0c800b",
   "metadata": {},
   "source": [
    "# new tutorial"
   ]
  },
  {
   "cell_type": "markdown",
   "id": "af8ab6ad",
   "metadata": {},
   "source": [
    "## string operation ,comparition and informtaion\n"
   ]
  },
  {
   "cell_type": "code",
   "execution_count": 224,
   "id": "393f9242",
   "metadata": {},
   "outputs": [],
   "source": [
    "ch_name=\"Indian AI production\"\n",
    "str1=\"Learning python numpy\""
   ]
  },
  {
   "cell_type": "code",
   "execution_count": 225,
   "id": "4a759d05",
   "metadata": {
    "scrolled": true
   },
   "outputs": [
    {
     "data": {
      "text/plain": [
       "array('Indian AI productionLearning python numpy', dtype='<U41')"
      ]
     },
     "execution_count": 225,
     "metadata": {},
     "output_type": "execute_result"
    }
   ],
   "source": [
    "np.char.add(ch_name,str1)"
   ]
  },
  {
   "cell_type": "code",
   "execution_count": 226,
   "id": "10ecef81",
   "metadata": {},
   "outputs": [
    {
     "data": {
      "text/plain": [
       "array('indian ai production', dtype='<U20')"
      ]
     },
     "execution_count": 226,
     "metadata": {},
     "output_type": "execute_result"
    }
   ],
   "source": [
    "np.char.lower(ch_name)"
   ]
  },
  {
   "cell_type": "code",
   "execution_count": 227,
   "id": "3c8c9cfd",
   "metadata": {},
   "outputs": [
    {
     "data": {
      "text/plain": [
       "array('INDIAN AI PRODUCTION', dtype='<U20')"
      ]
     },
     "execution_count": 227,
     "metadata": {},
     "output_type": "execute_result"
    }
   ],
   "source": [
    "np.char.upper(ch_name)"
   ]
  },
  {
   "cell_type": "code",
   "execution_count": 229,
   "id": "fb102ef3",
   "metadata": {
    "scrolled": true
   },
   "outputs": [
    {
     "data": {
      "text/plain": [
       "array('               Indian AI production               ', dtype='<U50')"
      ]
     },
     "execution_count": 229,
     "metadata": {},
     "output_type": "execute_result"
    }
   ],
   "source": [
    "np.char.center(ch_name,50)"
   ]
  },
  {
   "cell_type": "code",
   "execution_count": 230,
   "id": "902e3e9e",
   "metadata": {
    "scrolled": true
   },
   "outputs": [
    {
     "data": {
      "text/plain": [
       "array('***************Indian AI production***************', dtype='<U50')"
      ]
     },
     "execution_count": 230,
     "metadata": {},
     "output_type": "execute_result"
    }
   ],
   "source": [
    "np.char.center(ch_name,50,fillchar=\"*\")"
   ]
  },
  {
   "cell_type": "code",
   "execution_count": 231,
   "id": "a6458b63",
   "metadata": {
    "scrolled": true
   },
   "outputs": [
    {
     "data": {
      "text/plain": [
       "array('XXXXXXXXXXXXXXXIndian AI productionXXXXXXXXXXXXXXX', dtype='<U50')"
      ]
     },
     "execution_count": 231,
     "metadata": {},
     "output_type": "execute_result"
    }
   ],
   "source": [
    "np.char.center(ch_name,50,fillchar=\"X\")"
   ]
  },
  {
   "cell_type": "code",
   "execution_count": 232,
   "id": "3456f29a",
   "metadata": {},
   "outputs": [
    {
     "data": {
      "text/plain": [
       "array(list(['Indian', 'AI', 'production']), dtype=object)"
      ]
     },
     "execution_count": 232,
     "metadata": {},
     "output_type": "execute_result"
    }
   ],
   "source": [
    "np.char.split(ch_name)"
   ]
  },
  {
   "cell_type": "code",
   "execution_count": 233,
   "id": "26c6880d",
   "metadata": {},
   "outputs": [
    {
     "data": {
      "text/plain": [
       "array(list(['Indian AI production']), dtype=object)"
      ]
     },
     "execution_count": 233,
     "metadata": {},
     "output_type": "execute_result"
    }
   ],
   "source": [
    "np.char.splitlines(ch_name)"
   ]
  },
  {
   "cell_type": "code",
   "execution_count": 235,
   "id": "5891e080",
   "metadata": {},
   "outputs": [
    {
     "data": {
      "text/plain": [
       "array(['d:m:y', 'd/m/y/h'], dtype='<U7')"
      ]
     },
     "execution_count": 235,
     "metadata": {},
     "output_type": "execute_result"
    }
   ],
   "source": [
    "str4=\"dmy\"\n",
    "str5=\"dmyh\"\n",
    "np.char.join([\":\",\"/\"],[str4,str5])"
   ]
  },
  {
   "cell_type": "code",
   "execution_count": 236,
   "id": "29536d25",
   "metadata": {},
   "outputs": [
    {
     "data": {
      "text/plain": [
       "array('Indian hello production', dtype='<U23')"
      ]
     },
     "execution_count": 236,
     "metadata": {},
     "output_type": "execute_result"
    }
   ],
   "source": [
    "np.char.replace(ch_name,\"AI\",\"hello\")"
   ]
  },
  {
   "cell_type": "code",
   "execution_count": 237,
   "id": "1fa2f8dd",
   "metadata": {
    "scrolled": true
   },
   "outputs": [
    {
     "data": {
      "text/plain": [
       "array(False)"
      ]
     },
     "execution_count": 237,
     "metadata": {},
     "output_type": "execute_result"
    }
   ],
   "source": [
    "np.char.equal(str4,str5)"
   ]
  },
  {
   "cell_type": "code",
   "execution_count": 238,
   "id": "b306ba1a",
   "metadata": {
    "scrolled": true
   },
   "outputs": [
    {
     "data": {
      "text/plain": [
       "array(1)"
      ]
     },
     "execution_count": 238,
     "metadata": {},
     "output_type": "execute_result"
    }
   ],
   "source": [
    "np.char.count(ch_name,\"a\")"
   ]
  },
  {
   "cell_type": "code",
   "execution_count": 239,
   "id": "e91b1fbb",
   "metadata": {
    "scrolled": true
   },
   "outputs": [
    {
     "data": {
      "text/plain": [
       "array(7)"
      ]
     },
     "execution_count": 239,
     "metadata": {},
     "output_type": "execute_result"
    }
   ],
   "source": [
    "np.char.find(ch_name,\"AI\")"
   ]
  },
  {
   "cell_type": "code",
   "execution_count": 240,
   "id": "e27486e6",
   "metadata": {},
   "outputs": [
    {
     "ename": "TypeError",
     "evalue": "translate() missing 1 required positional argument: 'table'",
     "output_type": "error",
     "traceback": [
      "\u001b[1;31m---------------------------------------------------------------------------\u001b[0m",
      "\u001b[1;31mTypeError\u001b[0m                                 Traceback (most recent call last)",
      "Cell \u001b[1;32mIn[240], line 1\u001b[0m\n\u001b[1;32m----> 1\u001b[0m \u001b[43mnp\u001b[49m\u001b[38;5;241;43m.\u001b[39;49m\u001b[43mchar\u001b[49m\u001b[38;5;241;43m.\u001b[39;49m\u001b[43mtranslate\u001b[49m\u001b[43m(\u001b[49m\u001b[43mevn\u001b[49m\u001b[43m)\u001b[49m\n",
      "\u001b[1;31mTypeError\u001b[0m: translate() missing 1 required positional argument: 'table'"
     ]
    }
   ],
   "source": []
  }
 ],
 "metadata": {
  "kernelspec": {
   "display_name": "Python 3 (ipykernel)",
   "language": "python",
   "name": "python3"
  },
  "language_info": {
   "codemirror_mode": {
    "name": "ipython",
    "version": 3
   },
   "file_extension": ".py",
   "mimetype": "text/x-python",
   "name": "python",
   "nbconvert_exporter": "python",
   "pygments_lexer": "ipython3",
   "version": "3.11.4"
  }
 },
 "nbformat": 4,
 "nbformat_minor": 5
}
